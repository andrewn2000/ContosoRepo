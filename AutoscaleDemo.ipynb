{
  "cells": [
    {
      "cell_type": "markdown",
      "source": [
        "### Create new autoscale container, using the built-in .NET SDK ###"
      ],
      "metadata": {
        "nteract": {
          "transient": {
            "deleting": false
          }
        }
      }
    },
    {
      "cell_type": "code",
      "source": [
        "#r \"nuget: Microsoft.Azure.Cosmos, 3.9.1\""
      ],
      "outputs": [],
      "execution_count": null,
      "metadata": {
        "collapsed": true,
        "outputExpanded": false,
        "jupyter": {
          "source_hidden": false,
          "outputs_hidden": false
        },
        "nteract": {
          "transient": {
            "deleting": false
          }
        },
        "execution": {
          "iopub.status.busy": "2020-05-21T17:15:28.797Z",
          "iopub.status.idle": "2020-05-21T17:15:29.714Z",
          "shell.execute_reply": "2020-05-21T17:15:29.858Z"
        }
      }
    },
    {
      "cell_type": "code",
      "source": [
        "using Microsoft.Azure.Cosmos;\n",
        "\n",
        "CosmosClient cosmosClient = new CosmosClient(Cosmos.Endpoint, Cosmos.Key);\n",
        "ContainerProperties containerProperties = new ContainerProperties(\"AutoscaleContainer\", \"/id\");\n",
        "\n",
        "var autoscaleThroughput = ThroughputProperties.CreateAutoscaleThroughput(4000);\n",
        "\n",
        "Database database = await cosmosClient.CreateDatabaseIfNotExistsAsync(\"Demo\");\n",
        "Container container = await database.CreateContainerIfNotExistsAsync(containerProperties, autoscaleThroughput);\n",
        "\n",
        "Display.AsMarkdown($\"Created autoscale container that will scale between {0.1 * autoscaleThroughput.AutoscaleMaxThroughput} to {autoscaleThroughput.AutoscaleMaxThroughput} RU/s, based on usage.\");"
      ],
      "outputs": [],
      "execution_count": null,
      "metadata": {
        "collapsed": true,
        "execution": {
          "iopub.execute_input": "2020-05-21T17:14:41.614Z",
          "iopub.status.busy": "2020-05-21T17:14:41.389Z",
          "iopub.status.idle": "2020-05-21T17:14:41.733Z",
          "shell.execute_reply": "2020-05-21T17:14:41.738Z"
        },
        "jupyter": {
          "outputs_hidden": false,
          "source_hidden": false
        },
        "nteract": {
          "transient": {
            "deleting": false
          }
        },
        "outputExpanded": false,
        "trusted": true
      }
    },
    {
      "cell_type": "markdown",
      "source": [
        "### Setup ###"
      ],
      "metadata": {
        "nteract": {
          "transient": {
            "deleting": false
          }
        }
      }
    },
    {
      "cell_type": "code",
      "source": [
        "using System.Threading;\n",
        "using System.Threading.Tasks;\n",
        "using System.Diagnostics;\n",
        "using System;\n",
        "using System.Collections;\n",
        "using System.Collections.Generic;\n",
        "using System.Collections.Concurrent;\n",
        "\n",
        "var taskCount = 2;\n",
        "var pendingTaskCount = taskCount;\n",
        "\n",
        "var numberOfItemsToInsertPerTask = 1000;\n",
        "var delayBetweenOperationsInMs = 0;\n",
        "var delayBetweenLogOutputInSeconds = 1;\n",
        "\n",
        "long documentsInserted;\n",
        "\n",
        "ConcurrentDictionary<int, double> requestUnitsConsumed = new ConcurrentDictionary<int, double>();\n",
        "\n",
        "class TestItem\n",
        "{\n",
        "    public string id { get; set; }\n",
        "    \n",
        "    public string val { get; set; }\n",
        "\n",
        "}"
      ],
      "outputs": [],
      "execution_count": null,
      "metadata": {
        "collapsed": true,
        "execution": {
          "iopub.execute_input": "2020-05-12T20:26:50.957Z",
          "iopub.status.busy": "2020-05-21T17:14:41.486Z",
          "iopub.status.idle": "2020-05-21T17:14:41.901Z",
          "shell.execute_reply": "2020-05-21T17:14:41.919Z"
        },
        "jupyter": {
          "outputs_hidden": false,
          "source_hidden": false
        },
        "nteract": {
          "transient": {
            "deleting": false
          }
        },
        "outputExpanded": false,
        "trusted": true
      }
    },
    {
      "cell_type": "markdown",
      "source": [
        "### Helper method to print out RU/s usage"
      ],
      "metadata": {
        "nteract": {
          "transient": {
            "deleting": false
          }
        }
      }
    },
    {
      "cell_type": "code",
      "source": [
        "public async Task LogOutputStatsSimple() {\n",
        "    long lastCount = 0;\n",
        "    double currentRequestUnits = 0;\n",
        "    double lastRequestUnits = 0;\n",
        "    double lastDocumentCount = 0;\n",
        "    double lastSeconds = 0;\n",
        "\n",
        "    Stopwatch watch = new Stopwatch(); //start counting - each task starts from 0\n",
        "    watch.Start();\n",
        "    \n",
        "    await Task.Delay(TimeSpan.FromSeconds(delayBetweenLogOutputInSeconds)); //wait 1 second\n",
        "\n",
        "    while (pendingTaskCount >0) {\n",
        "        double currentSeconds = watch.Elapsed.TotalSeconds;\n",
        "\n",
        "        await Task.Delay(TimeSpan.FromSeconds(delayBetweenLogOutputInSeconds)); //wait 1 second\n",
        "\n",
        "        currentRequestUnits = 0;\n",
        "        foreach (int taskId in requestUnitsConsumed.Keys) // Sum up the total RU/s consumed across all tasks\n",
        "        {\n",
        "            currentRequestUnits += requestUnitsConsumed[taskId];\n",
        "        }\n",
        "        \n",
        "        var timeElapsed = currentSeconds - lastSeconds;\n",
        "        double currentRuPerSecond =  Math.Round((currentRequestUnits - lastRequestUnits) / timeElapsed);\n",
        "        double currentDocumentCount = documentsInserted;\n",
        "        double currentWritesPerSecond = Math.Round((currentDocumentCount - lastDocumentCount) / timeElapsed);\n",
        "\n",
        "        Display.AsMarkdown($\"Inserted {currentDocumentCount - lastDocumentCount} documents at {currentRuPerSecond} RU/s. Current writes/s is: {currentWritesPerSecond} writes/s\");\n",
        "\n",
        "        lastSeconds = currentSeconds;\n",
        "        lastRequestUnits = currentRequestUnits;\n",
        "        lastDocumentCount = currentDocumentCount;\n",
        "        \n",
        "    }\n",
        "    Display.AsMarkdown($\"Finished all inserts. Total seconds elapsed: {lastSeconds}. Inserted doc count: {lastDocumentCount}\");\n",
        "\n",
        "}"
      ],
      "outputs": [],
      "execution_count": null,
      "metadata": {
        "collapsed": true,
        "execution": {
          "iopub.status.busy": "2020-05-21T17:14:41.944Z",
          "iopub.status.idle": "2020-05-21T17:14:42.124Z",
          "shell.execute_reply": "2020-05-21T17:14:42.139Z"
        },
        "jupyter": {
          "outputs_hidden": false,
          "source_hidden": false
        },
        "nteract": {
          "transient": {
            "deleting": false
          }
        },
        "outputExpanded": false,
        "trusted": true
      }
    },
    {
      "cell_type": "markdown",
      "source": [
        "### Helper method to insert document ###"
      ],
      "metadata": {
        "nteract": {
          "transient": {
            "deleting": false
          }
        }
      }
    },
    {
      "cell_type": "code",
      "source": [
        "public async Task InsertDocument(int taskId, Container container, int numberOfItemsToInsert) {\n",
        "\n",
        "    requestUnitsConsumed[taskId] = 0; \n",
        "\n",
        "    for (var i = 0; i < numberOfItemsToInsert; i++) \n",
        "    {\n",
        "        await Task.Delay(TimeSpan.FromMilliseconds(delayBetweenOperationsInMs)); // Wait some time on client side between each insert. \n",
        "\n",
        "        var newItem = new TestItem();\n",
        "        var partitionKey = Guid.NewGuid().ToString();\n",
        "        newItem.id = partitionKey; \n",
        "        newItem.val = Guid.NewGuid().ToString(); \n",
        "\n",
        "        var itemResponse = await container.CreateItemAsync(newItem, new PartitionKey(partitionKey));\n",
        "        \n",
        "        requestUnitsConsumed[taskId] += itemResponse.RequestCharge; // Keep track of how many RU/s have been consumed for this task\n",
        "        Interlocked.Increment(ref documentsInserted); // Increment # doc inserted\n",
        "\n",
        "    }\n",
        "    Interlocked.Decrement(ref pendingTaskCount); // Consider task as completed when all documents have been inserted\n",
        "    //Display.AsMarkdown($\"Finished all inserts for taskId {taskId}. TotalDocsInserted so far: {documentsInserted}\");\n",
        "\n",
        "}"
      ],
      "outputs": [],
      "execution_count": null,
      "metadata": {
        "collapsed": true,
        "execution": {
          "iopub.status.busy": "2020-05-21T17:14:42.154Z",
          "iopub.status.idle": "2020-05-21T17:14:42.442Z",
          "shell.execute_reply": "2020-05-21T17:14:42.456Z"
        },
        "jupyter": {
          "outputs_hidden": false,
          "source_hidden": false
        },
        "nteract": {
          "transient": {
            "deleting": false
          }
        },
        "outputExpanded": false,
        "trusted": true
      }
    },
    {
      "cell_type": "markdown",
      "source": [
        "### DEMO: Change the delay between operations, to increase or decrease workload traffic"
      ],
      "metadata": {
        "nteract": {
          "transient": {
            "deleting": false
          }
        }
      }
    },
    {
      "cell_type": "code",
      "source": [
        "// Reset the state\n",
        "taskCount = 2;\n",
        "pendingTaskCount = taskCount;\n",
        "documentsInserted = 0;\n",
        "\n",
        "delayBetweenOperationsInMs = 0; // Change this to simulate different workload patterns\n",
        "\n",
        "Display.AsMarkdown($\"Wait time between inserts is {delayBetweenOperationsInMs} ms.\");"
      ],
      "outputs": [],
      "execution_count": null,
      "metadata": {
        "collapsed": true,
        "execution": {
          "iopub.execute_input": "2020-05-21T17:14:42.834Z",
          "iopub.status.busy": "2020-05-21T17:14:42.759Z",
          "iopub.status.idle": "2020-05-21T17:14:42.931Z",
          "shell.execute_reply": "2020-05-21T17:14:42.963Z"
        },
        "jupyter": {
          "outputs_hidden": false,
          "source_hidden": false
        },
        "nteract": {
          "transient": {
            "deleting": false
          }
        },
        "outputExpanded": false,
        "trusted": true
      }
    },
    {
      "cell_type": "code",
      "source": [
        "var tasks = new List<Task>();\n",
        "tasks.Add(LogOutputStatsSimple()); // Add a task that prints out average RU/s consumed every second. Runs until all inserts are completed. \n",
        "\n",
        "for (var j = 0; j < taskCount; j++)\n",
        "{\n",
        "    tasks.Add(InsertDocument(j, container, numberOfItemsToInsertPerTask));\n",
        "}"
      ],
      "outputs": [],
      "execution_count": null,
      "metadata": {
        "collapsed": true,
        "execution": {
          "iopub.execute_input": "2020-05-21T17:14:52.541Z",
          "iopub.status.busy": "2020-05-21T17:14:52.524Z",
          "iopub.status.idle": "2020-05-21T17:14:52.573Z",
          "shell.execute_reply": "2020-05-21T17:14:52.584Z"
        },
        "jupyter": {
          "outputs_hidden": false,
          "source_hidden": false
        },
        "nteract": {
          "transient": {
            "deleting": false
          }
        },
        "outputExpanded": false,
        "trusted": true
      }
    }
  ],
  "metadata": {
    "kernelspec": {
      "displayName": "CSharp",
      "language": "csharp",
      "name": "csharp"
    },
    "language_info": {
      "name": "csharp",
      "version": "7.3",
      "mimetype": "application/json",
      "file_extension": "ipynb",
      "codemirror_mode": "text/x-csharp"
    },
    "nteract": {
      "version": "dataExplorer 1.0"
    }
  },
  "nbformat": 4,
  "nbformat_minor": 4
}