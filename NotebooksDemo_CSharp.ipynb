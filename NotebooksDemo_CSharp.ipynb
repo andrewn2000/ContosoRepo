{
  "cells": [
    {
      "cell_type": "markdown",
      "source": [
        "## Welcome to C# notebooks in Azure Cosmos DB!## "
      ],
      "metadata": {
        "nteract": {
          "transient": {
            "deleting": false
          }
        }
      }
    },
    {
      "cell_type": "markdown",
      "source": [
        "### Install custom NuGet packages"
      ],
      "metadata": {
        "nteract": {
          "transient": {
            "deleting": false
          }
        }
      }
    },
    {
      "cell_type": "code",
      "source": [
        "#r \"nuget: Bogus\"\n",
        "#r \"nuget: System.Linq\"\n",
        "#r \"nuget: System.Linq.Expressions\""
      ],
      "outputs": [
        {
          "output_type": "execute_result",
          "execution_count": 1,
          "data": {},
          "metadata": {}
        }
      ],
      "execution_count": 1,
      "metadata": {
        "collapsed": true,
        "outputExpanded": false,
        "jupyter": {
          "source_hidden": false,
          "outputs_hidden": false
        },
        "nteract": {
          "transient": {
            "deleting": false
          }
        },
        "execution": {
          "iopub.status.busy": "2020-05-22T22:51:16.160Z",
          "iopub.status.idle": "2020-05-22T22:51:16.303Z",
          "shell.execute_reply": "2020-05-22T22:51:16.310Z"
        }
      }
    },
    {
      "cell_type": "markdown",
      "source": [
        "### Use built-in Cosmos .NET SDK to create resources"
      ],
      "metadata": {
        "nteract": {
          "transient": {
            "deleting": false
          }
        }
      }
    },
    {
      "cell_type": "code",
      "source": [
        "using System;\n",
        "using Microsoft.Azure.Cosmos;\n",
        "using System.Collections;\n",
        "\n",
        "// Initialize a new instance of CosmosClient using the built-in account endpoint and key parameters\n",
        "CosmosClient cosmosClient = new CosmosClient(Cosmos.Endpoint, Cosmos.Key);\n",
        "\n",
        "// Create a new database and container with 400 RU/s\n",
        "Microsoft.Azure.Cosmos.Database database = await cosmosClient.CreateDatabaseIfNotExistsAsync(\"Demo\");\n",
        "Container container = await database.CreateContainerIfNotExistsAsync(\"PaymentData\", \"/id\", 400);\n",
        "\n",
        "Display.AsMarkdown($\"Created database {database.Id} and container {container.Id}.\");"
      ],
      "outputs": [
        {
          "output_type": "execute_result",
          "execution_count": 2,
          "data": {},
          "metadata": {}
        },
        {
          "output_type": "display_data",
          "data": {
            "text/plain": [
              "<IPython.core.display.Markdown object>"
            ],
            "text/markdown": [
              "Created database Demo and container PaymentData."
            ]
          },
          "metadata": {}
        }
      ],
      "execution_count": 1,
      "metadata": {
        "collapsed": true,
        "execution": {
          "iopub.execute_input": "2020-05-22T22:51:21.044Z",
          "iopub.status.busy": "2020-05-22T22:51:21.038Z",
          "iopub.status.idle": "2020-05-22T22:51:21.055Z",
          "shell.execute_reply": "2020-05-22T22:51:21.064Z"
        },
        "jupyter": {
          "outputs_hidden": false,
          "source_hidden": false
        },
        "nteract": {
          "transient": {
            "deleting": false
          }
        },
        "outputExpanded": false,
        "trusted": true
      }
    },
    {
      "cell_type": "markdown",
      "source": [
        "### Represent C# classes ###"
      ],
      "metadata": {
        "nteract": {
          "transient": {
            "deleting": false
          }
        }
      }
    },
    {
      "cell_type": "code",
      "source": [
        "using System;\n",
        "\n",
        "class PaymentEvent\n",
        "{\n",
        "    public string id { get; set; }\n",
        "\n",
        "    public Decimal Amount { get; set; }\n",
        "\n",
        "    public string TransactionType { get; set; }\n",
        "\n",
        "    public string Currency { get; set; }\n",
        "\n",
        "    public string Username { get; set; }\n",
        "\n",
        "    public string Country { get; set; }\n",
        "\n",
        "    public string Address { get; set; }\n",
        "\n",
        "    public string Date { get; set; }\n",
        "\n",
        "    public DateTime Timestamp { get; set; }\n",
        "\n",
        "}"
      ],
      "outputs": [
        {
          "output_type": "execute_result",
          "execution_count": 3,
          "data": {},
          "metadata": {}
        }
      ],
      "execution_count": 3,
      "metadata": {
        "collapsed": true,
        "execution": {
          "iopub.status.busy": "2020-05-22T22:51:27.164Z",
          "iopub.status.idle": "2020-05-22T22:51:27.215Z",
          "shell.execute_reply": "2020-05-22T22:51:27.221Z"
        },
        "jupyter": {
          "outputs_hidden": false,
          "source_hidden": false
        },
        "nteract": {
          "transient": {
            "deleting": false
          }
        },
        "outputExpanded": false,
        "trusted": true
      }
    },
    {
      "cell_type": "markdown",
      "source": [
        "### Generate some data ###"
      ],
      "metadata": {
        "nteract": {
          "transient": {
            "deleting": false
          }
        }
      }
    },
    {
      "cell_type": "code",
      "source": [
        "using System.Linq;\n",
        "using System.Collections.Generic;\n",
        "using System.Linq.Expressions;\n",
        "using System;\n",
        "using Bogus;\n",
        "\n",
        "static List<PaymentEvent> GenerateRandomPaymentEvents(int numberOfDocumentsPerBatch)\n",
        "{\n",
        "    var faker = new Faker();\n",
        "\n",
        "    var paymentEvent = new Faker<PaymentEvent>()\n",
        "        .StrictMode(true)\n",
        "        //Generate event\n",
        "        .RuleFor(o => o.id, f => Guid.NewGuid().ToString())\n",
        "        .RuleFor(o => o.Amount, f => f.Finance.Amount())\n",
        "        .RuleFor(o => o.TransactionType, f => f.Finance.TransactionType())\n",
        "        .RuleFor(o => o.Currency, f => f.Finance.Currency().Code)\n",
        "        .RuleFor(o => o.Username, f => f.Internet.UserName())\n",
        "        .RuleFor(o => o.Country, f => f.Address.Country())\n",
        "        .RuleFor(o => o.Address, f => f.Address.StreetAddress())\n",
        "        .RuleFor(o => o.Timestamp, f => DateTime.Now) // just today's date\n",
        "        .RuleFor(o => o.Date, (f, m) => $\"{m.Timestamp.ToString(\"yyyy-MM-dd\")}\");\n",
        "\n",
        "    var events = paymentEvent.Generate(numberOfDocumentsPerBatch);\n",
        "    \n",
        "    return events;\n",
        "    \n",
        "}"
      ],
      "outputs": [
        {
          "output_type": "execute_result",
          "execution_count": 4,
          "data": {},
          "metadata": {}
        }
      ],
      "execution_count": 4,
      "metadata": {
        "collapsed": true,
        "outputExpanded": false,
        "jupyter": {
          "source_hidden": false,
          "outputs_hidden": false
        },
        "nteract": {
          "transient": {
            "deleting": false
          }
        },
        "execution": {
          "iopub.status.busy": "2020-05-22T22:51:38.420Z",
          "iopub.status.idle": "2020-05-22T22:51:39.463Z",
          "shell.execute_reply": "2020-05-22T22:51:39.469Z"
        }
      }
    },
    {
      "cell_type": "markdown",
      "source": [
        "#### Write data to PaymentData container ####"
      ],
      "metadata": {
        "nteract": {
          "transient": {
            "deleting": false
          }
        }
      }
    },
    {
      "cell_type": "code",
      "source": [
        "var paymentEvents = GenerateRandomPaymentEvents(100);\n",
        "\n",
        "foreach (PaymentEvent paymentEvent in paymentEvents)\n",
        "{\n",
        "    var itemResponse = await container.CreateItemAsync<PaymentEvent>(paymentEvent);\n",
        "}\n",
        "\n",
        "Display.AsMarkdown(\"Created 100 items in PaymentData container.\");"
      ],
      "outputs": [
        {
          "output_type": "execute_result",
          "execution_count": 5,
          "data": {},
          "metadata": {}
        },
        {
          "output_type": "display_data",
          "data": {
            "text/plain": [
              "<IPython.core.display.Markdown object>"
            ],
            "text/markdown": [
              "Created 100 items in PaymentData container."
            ]
          },
          "metadata": {}
        }
      ],
      "execution_count": 2,
      "metadata": {
        "collapsed": true,
        "execution": {
          "iopub.execute_input": "2020-05-22T22:51:50.645Z",
          "iopub.status.busy": "2020-05-22T22:51:50.567Z",
          "iopub.status.idle": "2020-05-22T22:51:50.668Z",
          "shell.execute_reply": "2020-05-22T22:51:50.676Z"
        },
        "jupyter": {
          "outputs_hidden": false,
          "source_hidden": false
        },
        "nteract": {
          "transient": {
            "deleting": false
          }
        },
        "outputExpanded": false,
        "trusted": true
      }
    },
    {
      "cell_type": "markdown",
      "source": [
        "### Query your data ###"
      ],
      "metadata": {
        "nteract": {
          "transient": {
            "deleting": false
          }
        }
      }
    },
    {
      "cell_type": "code",
      "source": [
        "using System.Linq;\n",
        "\n",
        "QueryDefinition queryDefinition = new QueryDefinition(\"SELECT * FROM c WHERE c.TransactionType IN ('deposit', 'invoice', 'withdrawal')\");\n",
        "\n",
        "FeedIterator<PaymentEvent> queryResultSetIterator = container.GetItemQueryIterator<PaymentEvent>(queryDefinition);\n",
        "\n",
        "List<PaymentEvent> paymentEvents = new List<PaymentEvent>();\n",
        "\n",
        "while (queryResultSetIterator.HasMoreResults)\n",
        "{\n",
        "    FeedResponse<PaymentEvent> currentResultSet = await queryResultSetIterator.ReadNextAsync();\n",
        "    foreach (PaymentEvent paymentEvent in currentResultSet)\n",
        "    {\n",
        "        paymentEvents.Add(paymentEvent);\n",
        "    }\n",
        "}\n",
        "\n",
        "paymentEvents.Take(100)"
      ],
      "outputs": [
        {
          "output_type": "execute_result",
          "execution_count": 6,
          "data": {
            "text/plain": [
              "System.Linq.Enumerable+ListPartition`1[Submission#6+PaymentEvent]"
            ],
            "application/vnd.dataresource+json": {
              "data": [
                {
                  "id": "813a85b5-7486-4a48-97e3-65b748d9b300",
                  "Amount": 337.17,
                  "TransactionType": "invoice",
                  "Currency": "KHR",
                  "Username": "Mathew_Littel",
                  "Country": "Malta",
                  "Address": "164 Bobbie Bridge",
                  "Date": "2020-05-22",
                  "Timestamp": "2020-05-22T22:51:49.3796442+00:00",
                  "index": 0
                },
                {
                  "id": "28cb6d08-5aad-46cb-9fef-e2f5b1bf46a5",
                  "Amount": 303.63,
                  "TransactionType": "deposit",
                  "Currency": "USD",
                  "Username": "Diamond_Weber70",
                  "Country": "Svalbard & Jan Mayen Islands",
                  "Address": "6644 Heaven Extensions",
                  "Date": "2020-05-22",
                  "Timestamp": "2020-05-22T22:51:49.3805659+00:00",
                  "index": 1
                },
                {
                  "id": "2642172b-8bbc-4a4d-9a33-ea5f245113e2",
                  "Amount": 136.87,
                  "TransactionType": "withdrawal",
                  "Currency": "HRK",
                  "Username": "Lurline.Towne59",
                  "Country": "Mexico",
                  "Address": "71000 Cassin Parkways",
                  "Date": "2020-05-22",
                  "Timestamp": "2020-05-22T22:51:49.3806026+00:00",
                  "index": 2
                },
                {
                  "id": "30a6e345-1ada-4b49-92d9-914fd6ae496d",
                  "Amount": 927.67,
                  "TransactionType": "withdrawal",
                  "Currency": "KPW",
                  "Username": "Amely_Quitzon90",
                  "Country": "Somalia",
                  "Address": "6041 Erich Plaza",
                  "Date": "2020-05-22",
                  "Timestamp": "2020-05-22T22:51:49.3806219+00:00",
                  "index": 3
                },
                {
                  "id": "394b1e6b-716a-47eb-8854-2db9a9b0217e",
                  "Amount": 656.68,
                  "TransactionType": "withdrawal",
                  "Currency": "LKR",
                  "Username": "Cordie.Heathcote",
                  "Country": "Netherlands Antilles",
                  "Address": "1665 Herman Fort",
                  "Date": "2020-05-22",
                  "Timestamp": "2020-05-22T22:51:49.3806775+00:00",
                  "index": 4
                },
                {
                  "id": "9cadf488-ab57-4710-9b0a-a4878a4144cb",
                  "Amount": 219.76,
                  "TransactionType": "withdrawal",
                  "Currency": "UZS",
                  "Username": "Brittany_Pacocha32",
                  "Country": "Mauritius",
                  "Address": "28818 Emily Circles",
                  "Date": "2020-05-22",
                  "Timestamp": "2020-05-22T22:51:49.3807427+00:00",
                  "index": 5
                },
                {
                  "id": "dbf14200-277c-40a9-a28d-d2ba69c93b83",
                  "Amount": 667.19,
                  "TransactionType": "withdrawal",
                  "Currency": "USD",
                  "Username": "Dagmar86",
                  "Country": "Senegal",
                  "Address": "911 Barton Island",
                  "Date": "2020-05-22",
                  "Timestamp": "2020-05-22T22:51:49.3809558+00:00",
                  "index": 6
                },
                {
                  "id": "8c23c5fa-437f-47db-9bcc-f534d35014ca",
                  "Amount": 539.07,
                  "TransactionType": "invoice",
                  "Currency": "PLN",
                  "Username": "Josiah_Becker",
                  "Country": "Libyan Arab Jamahiriya",
                  "Address": "4286 Bins Square",
                  "Date": "2020-05-22",
                  "Timestamp": "2020-05-22T22:51:49.3809802+00:00",
                  "index": 7
                },
                {
                  "id": "ed4b0f0b-502c-4ad9-9525-c4bb640875e9",
                  "Amount": 384.04,
                  "TransactionType": "invoice",
                  "Currency": "USD",
                  "Username": "Koby30",
                  "Country": "Spain",
                  "Address": "8354 Dare Trail",
                  "Date": "2020-05-22",
                  "Timestamp": "2020-05-22T22:51:49.3810011+00:00",
                  "index": 8
                },
                {
                  "id": "f7f0c5e5-0d7f-45ed-acc7-277ffe8b3f80",
                  "Amount": 232.52,
                  "TransactionType": "withdrawal",
                  "Currency": "LKR",
                  "Username": "Korbin53",
                  "Country": "Northern Mariana Islands",
                  "Address": "8404 Payton Well",
                  "Date": "2020-05-22",
                  "Timestamp": "2020-05-22T22:51:49.3810252+00:00",
                  "index": 9
                },
                {
                  "id": "419ad812-50d0-4324-9069-894f89367c79",
                  "Amount": 979.78,
                  "TransactionType": "invoice",
                  "Currency": "XPF",
                  "Username": "Leonor.Douglas68",
                  "Country": "Sri Lanka",
                  "Address": "453 Ashlee Ramp",
                  "Date": "2020-05-22",
                  "Timestamp": "2020-05-22T22:51:49.3810492+00:00",
                  "index": 10
                },
                {
                  "id": "b519ff31-9725-4caa-9633-aa9237d401cd",
                  "Amount": 214.92,
                  "TransactionType": "invoice",
                  "Currency": "KMF",
                  "Username": "Alvah_Kautzer91",
                  "Country": "Belize",
                  "Address": "50483 Damaris Springs",
                  "Date": "2020-05-22",
                  "Timestamp": "2020-05-22T22:51:49.3810723+00:00",
                  "index": 11
                },
                {
                  "id": "490729ff-f5a5-4083-928c-5a2b29802618",
                  "Amount": 615.72,
                  "TransactionType": "invoice",
                  "Currency": "AOA",
                  "Username": "Nathaniel.Cassin12",
                  "Country": "Peru",
                  "Address": "66563 Rogahn Gateway",
                  "Date": "2020-05-22",
                  "Timestamp": "2020-05-22T22:51:49.3810977+00:00",
                  "index": 12
                },
                {
                  "id": "259660c5-5270-469c-9466-a265426be98c",
                  "Amount": 554.36,
                  "TransactionType": "deposit",
                  "Currency": "GTQ",
                  "Username": "Maurice28",
                  "Country": "Nicaragua",
                  "Address": "81851 Dashawn Plains",
                  "Date": "2020-05-22",
                  "Timestamp": "2020-05-22T22:51:49.3811218+00:00",
                  "index": 13
                },
                {
                  "id": "0a86abeb-9dca-4caa-84fc-12b74f8ac11b",
                  "Amount": 105.56,
                  "TransactionType": "withdrawal",
                  "Currency": "CDF",
                  "Username": "Elmer_Sawayn92",
                  "Country": "Morocco",
                  "Address": "413 Cassin Ways",
                  "Date": "2020-05-22",
                  "Timestamp": "2020-05-22T22:51:49.3811437+00:00",
                  "index": 14
                },
                {
                  "id": "b005767d-e0af-438b-983f-7d7767fdfe65",
                  "Amount": 244.3,
                  "TransactionType": "withdrawal",
                  "Currency": "BYR",
                  "Username": "Terrence.Mayert50",
                  "Country": "United States of America",
                  "Address": "31443 Brown Parkways",
                  "Date": "2020-05-22",
                  "Timestamp": "2020-05-22T22:51:49.3811684+00:00",
                  "index": 15
                },
                {
                  "id": "85135453-3e00-4342-a88b-ade6ac7cd0b3",
                  "Amount": 217.32,
                  "TransactionType": "deposit",
                  "Currency": "GNF",
                  "Username": "Flo56",
                  "Country": "Virgin Islands, British",
                  "Address": "54953 Ed Station",
                  "Date": "2020-05-22",
                  "Timestamp": "2020-05-22T22:51:49.3812218+00:00",
                  "index": 16
                },
                {
                  "id": "dc29d8ac-8bd3-4475-a9ca-96c4a682a168",
                  "Amount": 69.2,
                  "TransactionType": "invoice",
                  "Currency": "XPT",
                  "Username": "Adrienne86",
                  "Country": "Heard Island and McDonald Islands",
                  "Address": "668 Edwina Camp",
                  "Date": "2020-05-22",
                  "Timestamp": "2020-05-22T22:51:49.3812568+00:00",
                  "index": 17
                },
                {
                  "id": "41a992ea-bc5a-47c5-9d59-f2ca097d8da7",
                  "Amount": 726.57,
                  "TransactionType": "deposit",
                  "Currency": "XOF",
                  "Username": "Tamara.Hansen",
                  "Country": "Spain",
                  "Address": "537 Dashawn Mission",
                  "Date": "2020-05-22",
                  "Timestamp": "2020-05-22T22:51:49.3812745+00:00",
                  "index": 18
                },
                {
                  "id": "909c86a4-dc3e-42b6-bfd6-b083b6f5e62d",
                  "Amount": 533.39,
                  "TransactionType": "withdrawal",
                  "Currency": "DOP",
                  "Username": "Makenzie_Denesik",
                  "Country": "Isle of Man",
                  "Address": "442 Julian Locks",
                  "Date": "2020-05-22",
                  "Timestamp": "2020-05-22T22:51:49.3813278+00:00",
                  "index": 19
                },
                {
                  "id": "6063011d-b935-4bbd-8a92-7ed4de77e203",
                  "Amount": 147.71,
                  "TransactionType": "invoice",
                  "Currency": "UGX",
                  "Username": "Tressa.Davis",
                  "Country": "Serbia",
                  "Address": "9644 Leonora Pass",
                  "Date": "2020-05-22",
                  "Timestamp": "2020-05-22T22:51:49.3813455+00:00",
                  "index": 20
                },
                {
                  "id": "da4d5522-6b44-4d86-b740-9169767232ab",
                  "Amount": 719.2,
                  "TransactionType": "withdrawal",
                  "Currency": "XBD",
                  "Username": "Anne92",
                  "Country": "Haiti",
                  "Address": "83160 Heller Causeway",
                  "Date": "2020-05-22",
                  "Timestamp": "2020-05-22T22:51:49.381379+00:00",
                  "index": 21
                },
                {
                  "id": "f94da9b9-b766-49b5-86f3-1ef1680a4d1f",
                  "Amount": 453.99,
                  "TransactionType": "invoice",
                  "Currency": "MWK",
                  "Username": "Keshaun.Reichert",
                  "Country": "Cameroon",
                  "Address": "801 Ebony Oval",
                  "Date": "2020-05-22",
                  "Timestamp": "2020-05-22T22:51:49.381397+00:00",
                  "index": 22
                },
                {
                  "id": "2a6a9f82-6cf0-42eb-8900-f018d05f5dfa",
                  "Amount": 861.42,
                  "TransactionType": "withdrawal",
                  "Currency": "SLL",
                  "Username": "Frederic_Streich53",
                  "Country": "Cyprus",
                  "Address": "458 Morgan Harbor",
                  "Date": "2020-05-22",
                  "Timestamp": "2020-05-22T22:51:49.3814157+00:00",
                  "index": 23
                },
                {
                  "id": "166c0b4a-8895-4338-b19b-7cae6e40066b",
                  "Amount": 859.73,
                  "TransactionType": "deposit",
                  "Currency": "BRL",
                  "Username": "Sierra.Corwin62",
                  "Country": "Iraq",
                  "Address": "82898 Brooklyn Place",
                  "Date": "2020-05-22",
                  "Timestamp": "2020-05-22T22:51:49.3814322+00:00",
                  "index": 24
                },
                {
                  "id": "7cb54bfe-0c7a-4898-938e-1a341f5fbde5",
                  "Amount": 434.24,
                  "TransactionType": "withdrawal",
                  "Currency": "EEK",
                  "Username": "Mack34",
                  "Country": "Kenya",
                  "Address": "7466 Mellie Hill",
                  "Date": "2020-05-22",
                  "Timestamp": "2020-05-22T22:51:49.3814494+00:00",
                  "index": 25
                },
                {
                  "id": "f5a219c5-cb8b-4482-8d1b-1f87f9983bbb",
                  "Amount": 965.46,
                  "TransactionType": "withdrawal",
                  "Currency": "SEK",
                  "Username": "Melissa.Huel62",
                  "Country": "Montenegro",
                  "Address": "83515 Stiedemann Spring",
                  "Date": "2020-05-22",
                  "Timestamp": "2020-05-22T22:51:49.3814678+00:00",
                  "index": 26
                },
                {
                  "id": "8881c693-8272-46b8-9fe5-2b6130d3a824",
                  "Amount": 271.4,
                  "TransactionType": "deposit",
                  "Currency": "AUD",
                  "Username": "Khalil47",
                  "Country": "Mauritania",
                  "Address": "375 Lucio Passage",
                  "Date": "2020-05-22",
                  "Timestamp": "2020-05-22T22:51:49.3815018+00:00",
                  "index": 27
                },
                {
                  "id": "981ede29-87b4-436f-8017-d82a26a2170f",
                  "Amount": 943.46,
                  "TransactionType": "deposit",
                  "Currency": "BDT",
                  "Username": "Terrill.Jacobson93",
                  "Country": "Madagascar",
                  "Address": "76420 Braun Keys",
                  "Date": "2020-05-22",
                  "Timestamp": "2020-05-22T22:51:49.3815204+00:00",
                  "index": 28
                },
                {
                  "id": "e3de0e0b-45c9-43af-9b6b-0cd2b59d78c8",
                  "Amount": 367.01,
                  "TransactionType": "deposit",
                  "Currency": "XPD",
                  "Username": "Rossie.Lemke",
                  "Country": "Maldives",
                  "Address": "0778 Jenkins Common",
                  "Date": "2020-05-22",
                  "Timestamp": "2020-05-22T22:51:49.3815367+00:00",
                  "index": 29
                },
                {
                  "id": "bfd8c985-c8eb-4e30-abfa-a063e870d747",
                  "Amount": 136.13,
                  "TransactionType": "withdrawal",
                  "Currency": "DZD",
                  "Username": "Franz4",
                  "Country": "Gibraltar",
                  "Address": "313 Sammy Causeway",
                  "Date": "2020-05-22",
                  "Timestamp": "2020-05-22T22:51:49.3815541+00:00",
                  "index": 30
                },
                {
                  "id": "813d47ad-a717-441e-bf53-889132361ce9",
                  "Amount": 317.32,
                  "TransactionType": "withdrawal",
                  "Currency": "KZT",
                  "Username": "Abby.Ebert",
                  "Country": "Bermuda",
                  "Address": "073 Wilkinson Bypass",
                  "Date": "2020-05-22",
                  "Timestamp": "2020-05-22T22:51:49.3815716+00:00",
                  "index": 31
                },
                {
                  "id": "7e18ecd2-c0da-4536-b7d4-53c6af2265ab",
                  "Amount": 657.28,
                  "TransactionType": "invoice",
                  "Currency": "MGA",
                  "Username": "Armani_Wyman0",
                  "Country": "Tonga",
                  "Address": "4030 Steuber Ramp",
                  "Date": "2020-05-22",
                  "Timestamp": "2020-05-22T22:51:49.3815894+00:00",
                  "index": 32
                },
                {
                  "id": "8932d3a5-56e5-4658-8738-6f750ab9e5fc",
                  "Amount": 209.3,
                  "TransactionType": "deposit",
                  "Currency": "VND",
                  "Username": "Aurore_Huels",
                  "Country": "Jordan",
                  "Address": "644 Kohler Fords",
                  "Date": "2020-05-22",
                  "Timestamp": "2020-05-22T22:51:49.381624+00:00",
                  "index": 33
                },
                {
                  "id": "3a919e62-40c2-44a6-b0c2-c207d4277e5f",
                  "Amount": 557.73,
                  "TransactionType": "deposit",
                  "Currency": "GMD",
                  "Username": "Cali.Willms91",
                  "Country": "Aruba",
                  "Address": "289 Hyatt Station",
                  "Date": "2020-05-22",
                  "Timestamp": "2020-05-22T22:51:49.3816417+00:00",
                  "index": 34
                },
                {
                  "id": "fb38daa0-fd0b-4c75-bf69-62106da2bc43",
                  "Amount": 710.88,
                  "TransactionType": "withdrawal",
                  "Currency": "GIP",
                  "Username": "Coleman.Gutmann",
                  "Country": "Saudi Arabia",
                  "Address": "8341 Rau Parkway",
                  "Date": "2020-05-22",
                  "Timestamp": "2020-05-22T22:51:49.3816585+00:00",
                  "index": 35
                },
                {
                  "id": "10a243ad-103c-4839-94c1-0db7052b5486",
                  "Amount": 530.7,
                  "TransactionType": "withdrawal",
                  "Currency": "MKD",
                  "Username": "Omari92",
                  "Country": "United Kingdom",
                  "Address": "2405 Cormier Cape",
                  "Date": "2020-05-22",
                  "Timestamp": "2020-05-22T22:51:49.3816767+00:00",
                  "index": 36
                },
                {
                  "id": "6a9b4f4c-685c-4a77-89c1-69886babfbf5",
                  "Amount": 527.6,
                  "TransactionType": "deposit",
                  "Currency": "CAD",
                  "Username": "Dawn.Gaylord",
                  "Country": "Guinea",
                  "Address": "93222 Concepcion Mall",
                  "Date": "2020-05-22",
                  "Timestamp": "2020-05-22T22:51:49.3816946+00:00",
                  "index": 37
                },
                {
                  "id": "7c97f872-4988-443f-816e-33f847165175",
                  "Amount": 946.39,
                  "TransactionType": "withdrawal",
                  "Currency": "USD",
                  "Username": "Julian.DAmore",
                  "Country": "Egypt",
                  "Address": "46030 Stamm Hills",
                  "Date": "2020-05-22",
                  "Timestamp": "2020-05-22T22:51:49.3835351+00:00",
                  "index": 38
                },
                {
                  "id": "9bf484cb-2ee6-4a99-87cb-95fc09c4dace",
                  "Amount": 317.55,
                  "TransactionType": "invoice",
                  "Currency": "GEL",
                  "Username": "Tara.Hirthe",
                  "Country": "Albania",
                  "Address": "980 Marks Mountain",
                  "Date": "2020-05-22",
                  "Timestamp": "2020-05-22T22:51:49.3835724+00:00",
                  "index": 39
                },
                {
                  "id": "e13de30d-98f7-4cbc-b3f3-6947b61795bb",
                  "Amount": 325.63,
                  "TransactionType": "invoice",
                  "Currency": "GTQ",
                  "Username": "Abe_Bartoletti40",
                  "Country": "Central African Republic",
                  "Address": "7039 Lehner River",
                  "Date": "2020-05-22",
                  "Timestamp": "2020-05-22T22:51:49.3836129+00:00",
                  "index": 40
                },
                {
                  "id": "0085d4e9-8363-414c-8809-292db26efa73",
                  "Amount": 999.18,
                  "TransactionType": "invoice",
                  "Currency": "INR",
                  "Username": "Adonis.Lesch64",
                  "Country": "Democratic People's Republic of Korea",
                  "Address": "192 Russ Fields",
                  "Date": "2020-05-22",
                  "Timestamp": "2020-05-22T22:51:49.3836299+00:00",
                  "index": 41
                },
                {
                  "id": "b7a33a26-0c85-4e3f-9bf1-90f9491db1ed",
                  "Amount": 506.85,
                  "TransactionType": "withdrawal",
                  "Currency": "MAD",
                  "Username": "Dorcas.Ernser46",
                  "Country": "Lebanon",
                  "Address": "407 Magdalena Roads",
                  "Date": "2020-05-22",
                  "Timestamp": "2020-05-22T22:51:49.3836843+00:00",
                  "index": 42
                },
                {
                  "id": "b7ab3a9b-887d-4697-a35f-9226a329476f",
                  "Amount": 306.04,
                  "TransactionType": "withdrawal",
                  "Currency": "ETB",
                  "Username": "Hilario90",
                  "Country": "Syrian Arab Republic",
                  "Address": "6859 Hoyt Springs",
                  "Date": "2020-05-22",
                  "Timestamp": "2020-05-22T22:51:49.3837215+00:00",
                  "index": 43
                },
                {
                  "id": "ded35768-eb1f-471c-950a-f51ca5060cc4",
                  "Amount": 334,
                  "TransactionType": "deposit",
                  "Currency": "USD",
                  "Username": "Eugene.Goodwin64",
                  "Country": "South Africa",
                  "Address": "6175 O'Keefe Shores",
                  "Date": "2020-05-22",
                  "Timestamp": "2020-05-22T22:51:49.3837742+00:00",
                  "index": 44
                },
                {
                  "id": "9064f174-87aa-43bc-a67b-58ab5ce2397b",
                  "Amount": 72.85,
                  "TransactionType": "deposit",
                  "Currency": "XAG",
                  "Username": "Lazaro4",
                  "Country": "Malaysia",
                  "Address": "87234 Hammes Falls",
                  "Date": "2020-05-22",
                  "Timestamp": "2020-05-22T22:51:49.3837917+00:00",
                  "index": 45
                },
                {
                  "id": "8641ce2a-8b60-4d6f-8c9c-d3002a0c4fa9",
                  "Amount": 322.5,
                  "TransactionType": "withdrawal",
                  "Currency": "XPF",
                  "Username": "Mossie29",
                  "Country": "Rwanda",
                  "Address": "77332 Lakin Ports",
                  "Date": "2020-05-22",
                  "Timestamp": "2020-05-22T22:51:49.3838267+00:00",
                  "index": 46
                },
                {
                  "id": "75fadbb4-bc48-47a7-886d-035f43cfa18b",
                  "Amount": 140.74,
                  "TransactionType": "deposit",
                  "Currency": "QAR",
                  "Username": "Darion.Strosin",
                  "Country": "Barbados",
                  "Address": "87653 Windler Rue",
                  "Date": "2020-05-22",
                  "Timestamp": "2020-05-22T22:51:49.3838453+00:00",
                  "index": 47
                },
                {
                  "id": "9a5c43d3-c19c-48ec-a4eb-921c5b585113",
                  "Amount": 656.76,
                  "TransactionType": "withdrawal",
                  "Currency": "SZL",
                  "Username": "Reynold98",
                  "Country": "India",
                  "Address": "1054 Mills Cove",
                  "Date": "2020-05-22",
                  "Timestamp": "2020-05-22T22:51:49.383914+00:00",
                  "index": 48
                },
                {
                  "id": "4638720c-190e-4b61-81d8-d368f9962f90",
                  "Amount": 772.73,
                  "TransactionType": "deposit",
                  "Currency": "MDL",
                  "Username": "Viva_Jaskolski",
                  "Country": "Nigeria",
                  "Address": "67863 Melvina Streets",
                  "Date": "2020-05-22",
                  "Timestamp": "2020-05-22T22:51:49.3839318+00:00",
                  "index": 49
                },
                {
                  "id": "e09d6ddc-8f38-4a16-b28f-86ff8e78579c",
                  "Amount": 646.89,
                  "TransactionType": "deposit",
                  "Currency": "EUR",
                  "Username": "Romaine84",
                  "Country": "Yemen",
                  "Address": "747 Wilburn Underpass",
                  "Date": "2020-05-22",
                  "Timestamp": "2020-05-22T22:51:49.3839669+00:00",
                  "index": 50
                },
                {
                  "id": "04ddf920-1361-4ffb-a426-694b959f2008",
                  "Amount": 278.13,
                  "TransactionType": "invoice",
                  "Currency": "EUR",
                  "Username": "Christ75",
                  "Country": "United Kingdom",
                  "Address": "390 Bernice Loop",
                  "Date": "2020-05-22",
                  "Timestamp": "2020-05-22T22:51:49.3839827+00:00",
                  "index": 51
                },
                {
                  "id": "eff31cc5-4008-4186-8f96-8482b969807f",
                  "Amount": 929.12,
                  "TransactionType": "withdrawal",
                  "Currency": "USD",
                  "Username": "Jensen_Connelly2",
                  "Country": "Saint Barthelemy",
                  "Address": "1469 Flatley Tunnel",
                  "Date": "2020-05-22",
                  "Timestamp": "2020-05-22T22:51:49.3840014+00:00",
                  "index": 52
                },
                {
                  "id": "a8fa37dd-2b4a-4ef6-8e3e-ec30690a39af",
                  "Amount": 469.21,
                  "TransactionType": "invoice",
                  "Currency": "MDL",
                  "Username": "Justina.Wolff",
                  "Country": "Gabon",
                  "Address": "57105 Rippin Motorway",
                  "Date": "2020-05-22",
                  "Timestamp": "2020-05-22T22:51:49.3840193+00:00",
                  "index": 53
                },
                {
                  "id": "6860c6f4-c938-4153-9fd1-a3758014685d",
                  "Amount": 606.15,
                  "TransactionType": "invoice",
                  "Currency": "OMR",
                  "Username": "Emmett43",
                  "Country": "Rwanda",
                  "Address": "94480 Stokes Parks",
                  "Date": "2020-05-22",
                  "Timestamp": "2020-05-22T22:51:49.3840356+00:00",
                  "index": 54
                },
                {
                  "id": "b10b0fff-9fd6-4f2c-a2da-b60d76205870",
                  "Amount": 578.99,
                  "TransactionType": "withdrawal",
                  "Currency": "USD",
                  "Username": "Ozella_Boehm48",
                  "Country": "Czech Republic",
                  "Address": "86873 Ryan Corners",
                  "Date": "2020-05-22",
                  "Timestamp": "2020-05-22T22:51:49.3840541+00:00",
                  "index": 55
                },
                {
                  "id": "aaaa9915-c4ce-4343-b404-709f1fa603ce",
                  "Amount": 194.06,
                  "TransactionType": "invoice",
                  "Currency": "XAG",
                  "Username": "Oswald.Koelpin43",
                  "Country": "Malawi",
                  "Address": "0617 Bailey Ville",
                  "Date": "2020-05-22",
                  "Timestamp": "2020-05-22T22:51:49.3840886+00:00",
                  "index": 56
                },
                {
                  "id": "c7bdd364-233c-449b-a84d-27843f6b2623",
                  "Amount": 352.12,
                  "TransactionType": "withdrawal",
                  "Currency": "GTQ",
                  "Username": "Brant.Grant62",
                  "Country": "Solomon Islands",
                  "Address": "514 Clint Courts",
                  "Date": "2020-05-22",
                  "Timestamp": "2020-05-22T22:51:49.3841057+00:00",
                  "index": 57
                },
                {
                  "id": "c27f657e-ab1d-4520-aaa7-6786b0edfa79",
                  "Amount": 55.52,
                  "TransactionType": "invoice",
                  "Currency": "NOK",
                  "Username": "Mary66",
                  "Country": "Pitcairn Islands",
                  "Address": "869 Crawford Road",
                  "Date": "2020-05-22",
                  "Timestamp": "2020-05-22T22:51:49.3841234+00:00",
                  "index": 58
                },
                {
                  "id": "064eda3a-4883-40dd-b365-dce6cb181255",
                  "Amount": 907.32,
                  "TransactionType": "withdrawal",
                  "Currency": "FJD",
                  "Username": "Everett_Bergnaum",
                  "Country": "Mauritius",
                  "Address": "830 Rogahn Inlet",
                  "Date": "2020-05-22",
                  "Timestamp": "2020-05-22T22:51:49.3841412+00:00",
                  "index": 59
                },
                {
                  "id": "817acac3-9ce3-4642-99c7-f51e75cd4ec6",
                  "Amount": 249.85,
                  "TransactionType": "withdrawal",
                  "Currency": "TTD",
                  "Username": "Dulce_Spinka",
                  "Country": "Thailand",
                  "Address": "353 Laurianne Unions",
                  "Date": "2020-05-22",
                  "Timestamp": "2020-05-22T22:51:49.3841746+00:00",
                  "index": 60
                },
                {
                  "id": "9a0bac93-389e-4906-a901-547ca955e289",
                  "Amount": 954.71,
                  "TransactionType": "withdrawal",
                  "Currency": "CNY",
                  "Username": "Simone_Schowalter",
                  "Country": "Albania",
                  "Address": "347 Predovic Route",
                  "Date": "2020-05-22",
                  "Timestamp": "2020-05-22T22:51:49.3841935+00:00",
                  "index": 61
                },
                {
                  "id": "824418bd-e2a5-4188-8d27-19af0a5a788f",
                  "Amount": 244.81,
                  "TransactionType": "deposit",
                  "Currency": "XPD",
                  "Username": "Kory.Feeney79",
                  "Country": "Bahamas",
                  "Address": "443 Crist Prairie",
                  "Date": "2020-05-22",
                  "Timestamp": "2020-05-22T22:51:49.3842278+00:00",
                  "index": 62
                },
                {
                  "id": "909f652c-5c9d-4bf8-baa2-304ca3f00c00",
                  "Amount": 203.77,
                  "TransactionType": "deposit",
                  "Currency": "AOA",
                  "Username": "Ozella_Dach",
                  "Country": "Jersey",
                  "Address": "954 Turner Spring",
                  "Date": "2020-05-22",
                  "Timestamp": "2020-05-22T22:51:49.3842454+00:00",
                  "index": 63
                },
                {
                  "id": "2d7fa98e-4642-4892-b364-6009059b89aa",
                  "Amount": 830.66,
                  "TransactionType": "deposit",
                  "Currency": "JMD",
                  "Username": "Porter.Morissette",
                  "Country": "Bulgaria",
                  "Address": "787 Kuhn Plaza",
                  "Date": "2020-05-22",
                  "Timestamp": "2020-05-22T22:51:49.3842626+00:00",
                  "index": 64
                },
                {
                  "id": "d8793135-bc5a-4d68-8bb1-a807bd251b22",
                  "Amount": 650.43,
                  "TransactionType": "deposit",
                  "Currency": "MNT",
                  "Username": "Reed7",
                  "Country": "Norfolk Island",
                  "Address": "82113 Theo Shores",
                  "Date": "2020-05-22",
                  "Timestamp": "2020-05-22T22:51:49.3842796+00:00",
                  "index": 65
                },
                {
                  "id": "a2376580-49e4-4ae6-9d55-cf0ffdd40c1e",
                  "Amount": 435.3,
                  "TransactionType": "invoice",
                  "Currency": "ETB",
                  "Username": "Milan_Beahan47",
                  "Country": "Bolivia",
                  "Address": "3242 Kautzer Radial",
                  "Date": "2020-05-22",
                  "Timestamp": "2020-05-22T22:51:49.3843164+00:00",
                  "index": 66
                },
                {
                  "id": "f853464a-fa9c-4571-9159-45ecacdd47c2",
                  "Amount": 709.07,
                  "TransactionType": "invoice",
                  "Currency": "GBP",
                  "Username": "Prudence7",
                  "Country": "Netherlands Antilles",
                  "Address": "8657 Emil Stream",
                  "Date": "2020-05-22",
                  "Timestamp": "2020-05-22T22:51:49.384333+00:00",
                  "index": 67
                },
                {
                  "id": "996c3f97-0298-46ab-8e23-498850e098f3",
                  "Amount": 371.34,
                  "TransactionType": "deposit",
                  "Currency": "NZD",
                  "Username": "Jeramie.Hamill62",
                  "Country": "Nicaragua",
                  "Address": "55822 Ryleigh Coves",
                  "Date": "2020-05-22",
                  "Timestamp": "2020-05-22T22:51:49.3843514+00:00",
                  "index": 68
                },
                {
                  "id": "9b1594fb-9efa-4212-b88e-a5d0778dc3db",
                  "Amount": 126.96,
                  "TransactionType": "invoice",
                  "Currency": "TOP",
                  "Username": "Gisselle.Daniel19",
                  "Country": "Saudi Arabia",
                  "Address": "7063 Fredy Shore",
                  "Date": "2020-05-22",
                  "Timestamp": "2020-05-22T22:51:49.3843864+00:00",
                  "index": 69
                },
                {
                  "id": "5bd5f515-a49a-4dee-8f49-911f0714b832",
                  "Amount": 121.76,
                  "TransactionType": "deposit",
                  "Currency": "KYD",
                  "Username": "Claire71",
                  "Country": "Latvia",
                  "Address": "191 Woodrow Vista",
                  "Date": "2020-05-22",
                  "Timestamp": "2020-05-22T22:51:49.3844048+00:00",
                  "index": 70
                },
                {
                  "id": "5a247d5a-abb6-4ec0-ba06-f768aac5c094",
                  "Amount": 900.74,
                  "TransactionType": "invoice",
                  "Currency": "SLL",
                  "Username": "Randall_Lindgren72",
                  "Country": "Palau",
                  "Address": "943 Andrew Squares",
                  "Date": "2020-05-22",
                  "Timestamp": "2020-05-22T22:51:49.3844412+00:00",
                  "index": 71
                }
              ],
              "schema": {
                "fields": [
                  {
                    "name": "index",
                    "type": "integer"
                  },
                  {
                    "name": "id",
                    "type": "string"
                  },
                  {
                    "name": "Amount",
                    "type": "number"
                  },
                  {
                    "name": "TransactionType",
                    "type": "string"
                  },
                  {
                    "name": "Currency",
                    "type": "string"
                  },
                  {
                    "name": "Username",
                    "type": "string"
                  },
                  {
                    "name": "Country",
                    "type": "string"
                  },
                  {
                    "name": "Address",
                    "type": "string"
                  },
                  {
                    "name": "Date",
                    "type": "string"
                  },
                  {
                    "name": "Timestamp",
                    "type": "string"
                  }
                ],
                "primaryKey": [
                  "index"
                ]
              }
            }
          },
          "metadata": {
            "application/vnd.dataresource+json": {
              "size": 6,
              "_root": {
                "ownerID": {},
                "entries": [
                  [
                    "size",
                    6
                  ],
                  [
                    "_root",
                    {
                      "ownerID": {},
                      "entries": [
                        [
                          "size",
                          1
                        ],
                        [
                          "_root",
                          {
                            "ownerID": {},
                            "entries": [
                              [
                                "dx",
                                {
                                  "summaryType": "violin",
                                  "marginalGraphics": "none",
                                  "view": "grid",
                                  "areaType": "hexbin",
                                  "selectedDimensions": [
                                    "Date"
                                  ],
                                  "selectedMetrics": [],
                                  "networkType": "force",
                                  "pieceType": "bar",
                                  "lineType": "line",
                                  "hierarchyType": "dendrogram",
                                  "colors": [
                                    "#DA752E",
                                    "#E5C209",
                                    "#1441A0",
                                    "#B86117",
                                    "#4D430C",
                                    "#1DB390",
                                    "#B3331D",
                                    "#088EB2",
                                    "#417505",
                                    "#E479A8",
                                    "#F9F39E",
                                    "#5782DC",
                                    "#EBA97B",
                                    "#A2AB60",
                                    "#B291CF",
                                    "#8DD2C2",
                                    "#E6A19F",
                                    "#3DC7E0",
                                    "#98CE5B"
                                  ],
                                  "trendLine": "none",
                                  "barGrouping": "Clustered",
                                  "chart": {
                                    "metric1": "Amount",
                                    "metric2": "none",
                                    "timeseriesSort": "array-order",
                                    "metric3": "none",
                                    "metric4": "none",
                                    "networkLabel": "none",
                                    "dim1": "Date",
                                    "dim2": "TransactionType",
                                    "dim3": "none"
                                  }
                                }
                              ]
                            ]
                          }
                        ],
                        [
                          "__ownerID",
                          null
                        ],
                        [
                          "__hash",
                          null
                        ],
                        [
                          "__altered",
                          false
                        ],
                        [
                          "dx",
                          {
                            "summaryType": "violin",
                            "marginalGraphics": "none",
                            "view": "bar",
                            "areaType": "hexbin",
                            "selectedDimensions": [
                              "Date"
                            ],
                            "selectedMetrics": [],
                            "networkType": "force",
                            "pieceType": "bar",
                            "lineType": "line",
                            "hierarchyType": "dendrogram",
                            "colors": [
                              "#DA752E",
                              "#E5C209",
                              "#1441A0",
                              "#B86117",
                              "#4D430C",
                              "#1DB390",
                              "#B3331D",
                              "#088EB2",
                              "#417505",
                              "#E479A8",
                              "#F9F39E",
                              "#5782DC",
                              "#EBA97B",
                              "#A2AB60",
                              "#B291CF",
                              "#8DD2C2",
                              "#E6A19F",
                              "#3DC7E0",
                              "#98CE5B"
                            ],
                            "trendLine": "none",
                            "barGrouping": "Clustered",
                            "chart": {
                              "metric1": "Amount",
                              "metric2": "none",
                              "timeseriesSort": "array-order",
                              "metric3": "none",
                              "metric4": "none",
                              "networkLabel": "none",
                              "dim1": "Date",
                              "dim2": "TransactionType",
                              "dim3": "none"
                            }
                          }
                        ]
                      ]
                    }
                  ],
                  [
                    "__ownerID",
                    null
                  ],
                  [
                    "__hash",
                    null
                  ],
                  [
                    "__altered",
                    false
                  ],
                  [
                    "dx",
                    {
                      "summaryType": "violin",
                      "marginalGraphics": "none",
                      "view": "bar",
                      "areaType": "hexbin",
                      "selectedDimensions": [
                        "Date"
                      ],
                      "selectedMetrics": [],
                      "networkType": "force",
                      "pieceType": "bar",
                      "lineType": "line",
                      "hierarchyType": "dendrogram",
                      "colors": [
                        "#DA752E",
                        "#E5C209",
                        "#1441A0",
                        "#B86117",
                        "#4D430C",
                        "#1DB390",
                        "#B3331D",
                        "#088EB2",
                        "#417505",
                        "#E479A8",
                        "#F9F39E",
                        "#5782DC",
                        "#EBA97B",
                        "#A2AB60",
                        "#B291CF",
                        "#8DD2C2",
                        "#E6A19F",
                        "#3DC7E0",
                        "#98CE5B"
                      ],
                      "trendLine": "none",
                      "barGrouping": "Clustered",
                      "chart": {
                        "metric1": "Amount",
                        "metric2": "none",
                        "timeseriesSort": "array-order",
                        "metric3": "none",
                        "metric4": "none",
                        "networkLabel": "none",
                        "dim1": "TransactionType",
                        "dim2": "TransactionType",
                        "dim3": "none"
                      }
                    }
                  ]
                ]
              },
              "__altered": false,
              "dx": {
                "summaryType": "violin",
                "marginalGraphics": "none",
                "view": "bar",
                "areaType": "hexbin",
                "selectedDimensions": [
                  "Date",
                  "TransactionType"
                ],
                "selectedMetrics": [],
                "networkType": "force",
                "pieceType": "bar",
                "lineType": "line",
                "hierarchyType": "dendrogram",
                "colors": [
                  "#DA752E",
                  "#E5C209",
                  "#1441A0",
                  "#B86117",
                  "#4D430C",
                  "#1DB390",
                  "#B3331D",
                  "#088EB2",
                  "#417505",
                  "#E479A8",
                  "#F9F39E",
                  "#5782DC",
                  "#EBA97B",
                  "#A2AB60",
                  "#B291CF",
                  "#8DD2C2",
                  "#E6A19F",
                  "#3DC7E0",
                  "#98CE5B"
                ],
                "trendLine": "none",
                "barGrouping": "Clustered",
                "chart": {
                  "metric1": "Amount",
                  "metric2": "none",
                  "timeseriesSort": "array-order",
                  "metric3": "none",
                  "metric4": "none",
                  "networkLabel": "none",
                  "dim1": "TransactionType",
                  "dim2": "TransactionType",
                  "dim3": "none"
                }
              }
            }
          }
        }
      ],
      "execution_count": 6,
      "metadata": {
        "collapsed": true,
        "execution": {
          "iopub.status.busy": "2020-05-22T22:52:31.225Z",
          "iopub.status.idle": "2020-05-22T22:52:31.598Z",
          "shell.execute_reply": "2020-05-22T22:52:31.610Z",
          "iopub.execute_input": "2020-05-20T20:54:28.989Z"
        },
        "jupyter": {
          "outputs_hidden": false,
          "source_hidden": false
        },
        "nteract": {
          "transient": {
            "deleting": false
          }
        },
        "outputExpanded": false,
        "trusted": true
      }
    },
    {
      "cell_type": "markdown",
      "source": [
        "Message: Hello everyone!"
      ],
      "metadata": {
        "nteract": {
          "transient": {
            "deleting": false
          }
        }
      }
    },
    {
      "cell_type": "code",
      "source": [
        "Hello from Azure CosmosDB\n",
        "Can you save from here?!"
      ],
      "outputs": [],
      "execution_count": null,
      "metadata": {
        "collapsed": true,
        "outputExpanded": false,
        "jupyter": {
          "source_hidden": false,
          "outputs_hidden": false
        },
        "nteract": {
          "transient": {
            "deleting": false
          }
        }
      }
    }
  ],
  "metadata": {
    "kernelspec": {
      "displayName": "CSharp",
      "language": "csharp",
      "name": "csharp"
    },
    "language_info": {
      "name": "csharp",
      "version": "7.3",
      "mimetype": "application/json",
      "file_extension": "ipynb",
      "codemirror_mode": "text/x-csharp"
    },
    "nteract": {
      "version": "dataExplorer 1.0"
    }
  },
  "nbformat": 4,
  "nbformat_minor": 4
}