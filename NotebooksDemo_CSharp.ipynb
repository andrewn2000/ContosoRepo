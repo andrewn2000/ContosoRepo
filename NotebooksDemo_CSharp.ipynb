{
  "cells": [
    {
      "cell_type": "markdown",
      "source": [
        "#### Let's run this notebook from our GitHub repo! ####"
      ],
      "metadata": {
        "nteract": {
          "transient": {
            "deleting": false
          }
        }
      }
    },
    {
      "cell_type": "code",
      "source": [
        "using System;\n",
        "using System.Collections.Generic;\n",
        "\n",
        "Dictionary<string, string> dictionary= new Dictionary<string, string>();\n",
        "dictionary.Add(\"alice\", \"Learning Azure Cosmos DB\");\n",
        "dictionary.Add(\"bob\", \"Running a query\");\n",
        "dictionary.Add(\"carol\", \"Using a notebook\");\n",
        "\n",
        "dictionary"
      ],
      "outputs": [
        {
          "output_type": "execute_result",
          "execution_count": 1,
          "data": {
            "text/plain": [
              "System.Collections.Generic.Dictionary`2[System.String,System.String]"
            ],
            "application/json": {
              "data": {
                "alice": "Learning Azure Cosmos DB",
                "bob": "Running a query",
                "carol": "Using a notebook"
              }
            }
          },
          "metadata": {}
        }
      ],
      "execution_count": 1,
      "metadata": {
        "collapsed": true,
        "execution": {
          "iopub.execute_input": "2020-05-19T22:52:53.806Z",
          "iopub.status.busy": "2020-05-19T23:04:21.671Z",
          "iopub.status.idle": "2020-05-19T23:04:22.412Z",
          "shell.execute_reply": "2020-05-19T23:04:22.419Z"
        },
        "jupyter": {
          "outputs_hidden": false,
          "source_hidden": false
        },
        "nteract": {
          "transient": {
            "deleting": false
          }
        },
        "outputExpanded": false,
        "trusted": true
      }
    }
  ],
  "metadata": {
    "kernelspec": {
      "displayName": "CSharp",
      "language": "csharp",
      "name": "csharp"
    },
    "language_info": {
      "name": "csharp",
      "version": "7.3",
      "mimetype": "application/json",
      "file_extension": "ipynb",
      "codemirror_mode": "text/x-csharp"
    },
    "nteract": {
      "version": "dataExplorer 1.0"
    }
  },
  "nbformat": 4,
  "nbformat_minor": 4
}