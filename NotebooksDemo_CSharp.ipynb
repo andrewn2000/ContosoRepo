{
  "cells": [
    {
      "cell_type": "markdown",
      "source": [
        "## Let's run this notebook from our GitHub repo!## "
      ],
      "metadata": {
        "nteract": {
          "transient": {
            "deleting": false
          }
        }
      }
    },
    {
      "cell_type": "code",
      "source": [
        "using System;\n",
        "using System.Collections.Generic;\n",
        "\n",
        "Dictionary<string, string> dictionary= new Dictionary<string, string>();\n",
        "dictionary.Add(\"alice\", \"Learning Azure Cosmos DB\");\n",
        "dictionary.Add(\"bob\", \"Running a query\");\n",
        "dictionary.Add(\"carol\", \"Using a notebook\");\n",
        "\n",
        "dictionary"
      ],
      "outputs": [],
      "execution_count": null,
      "metadata": {
        "collapsed": true,
        "execution": {
          "iopub.execute_input": "2020-05-19T22:52:53.806Z",
          "iopub.status.busy": "2020-05-19T23:00:00.801Z",
          "iopub.status.idle": "2020-05-19T23:00:01.316Z",
          "shell.execute_reply": "2020-05-19T23:00:01.333Z"
        },
        "jupyter": {
          "outputs_hidden": false,
          "source_hidden": false
        },
        "nteract": {
          "transient": {
            "deleting": false
          }
        },
        "outputExpanded": false,
        "trusted": true
      }
    }
  ],
  "metadata": {
    "kernelspec": {
      "displayName": "CSharp",
      "language": "csharp",
      "name": "csharp"
    },
    "language_info": {
      "name": "csharp",
      "version": "7.3",
      "mimetype": "application/json",
      "file_extension": "ipynb",
      "codemirror_mode": "text/x-csharp"
    },
    "nteract": {
      "version": "dataExplorer 1.0"
    }
  },
  "nbformat": 4,
  "nbformat_minor": 4
}