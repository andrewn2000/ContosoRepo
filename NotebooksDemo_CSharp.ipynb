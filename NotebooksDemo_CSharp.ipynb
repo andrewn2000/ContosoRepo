{
  "cells": [
    {
      "cell_type": "markdown",
      "source": [
        "## Welcome to C# notebooks in Azure Cosmos DB!## "
      ],
      "metadata": {
        "nteract": {
          "transient": {
            "deleting": false
          }
        }
      }
    },
    {
      "cell_type": "markdown",
      "source": [
        "### Use Cosmos .NET SDK to create resources ###"
      ],
      "metadata": {
        "nteract": {
          "transient": {
            "deleting": false
          }
        }
      }
    },
    {
      "cell_type": "code",
      "source": [
        "using System;\n",
        "using Microsoft.Azure.Cosmos;\n",
        "using System.Collections;\n",
        "\n",
        "// Initialize a new instance of CosmosClient using the built-in account endpoint and key parameters\n",
        "CosmosClient cosmosClient = new CosmosClient(Cosmos.Endpoint, Cosmos.Key);\n",
        "\n",
        "// Create a new database and container with 400 RU/s\n",
        "Microsoft.Azure.Cosmos.Database database = await cosmosClient.CreateDatabaseIfNotExistsAsync(\"Demo\");\n",
        "Container container = await database.CreateContainerIfNotExistsAsync(\"PaymentData\", \"/id\", 400);\n",
        "\n",
        "Display.AsMarkdown(@\"\n",
        "Created database Demo and container PaymentData.\n",
        "\");"
      ],
      "outputs": [
        {
          "output_type": "execute_result",
          "execution_count": 13,
          "data": {},
          "metadata": {}
        },
        {
          "output_type": "display_data",
          "data": {
            "text/plain": [
              "<IPython.core.display.Markdown object>"
            ],
            "text/markdown": [
              "\n",
              "Created database Demo and container PaymentData.\n"
            ]
          },
          "metadata": {}
        }
      ],
      "execution_count": 5,
      "metadata": {
        "collapsed": true,
        "execution": {
          "iopub.execute_input": "2020-05-15T21:32:34.918Z",
          "iopub.status.busy": "2020-05-15T21:32:34.843Z",
          "iopub.status.idle": "2020-05-15T21:32:34.951Z",
          "shell.execute_reply": "2020-05-15T21:32:34.957Z"
        },
        "jupyter": {
          "outputs_hidden": false,
          "source_hidden": false
        },
        "nteract": {
          "transient": {
            "deleting": false
          }
        },
        "outputExpanded": false,
        "trusted": true
      }
    },
    {
      "cell_type": "markdown",
      "source": [
        "### Represent C# classes ###"
      ],
      "metadata": {
        "nteract": {
          "transient": {
            "deleting": false
          }
        }
      }
    },
    {
      "cell_type": "code",
      "source": [
        "using System;\n",
        "\n",
        "class PaymentEvent\n",
        "{\n",
        "    public string id { get; set; }\n",
        "\n",
        "    public Decimal Amount { get; set; }\n",
        "\n",
        "    public string TransactionType { get; set; }\n",
        "\n",
        "    public string Currency { get; set; }\n",
        "\n",
        "    public string Username { get; set; }\n",
        "\n",
        "    public string Country { get; set; }\n",
        "\n",
        "    public string Address { get; set; }\n",
        "\n",
        "    public string Date { get; set; }\n",
        "\n",
        "    public DateTime Timestamp { get; set; }\n",
        "\n",
        "}"
      ],
      "outputs": [],
      "execution_count": null,
      "metadata": {
        "collapsed": true,
        "execution": {
          "iopub.status.busy": "2020-05-15T21:07:50.149Z",
          "iopub.status.idle": "2020-05-15T21:07:50.556Z",
          "shell.execute_reply": "2020-05-15T21:07:50.564Z"
        },
        "jupyter": {
          "outputs_hidden": false,
          "source_hidden": false
        },
        "nteract": {
          "transient": {
            "deleting": false
          }
        },
        "outputExpanded": false,
        "trusted": true
      }
    },
    {
      "cell_type": "markdown",
      "source": [
        "### Generate some data ###"
      ],
      "metadata": {
        "nteract": {
          "transient": {
            "deleting": false
          }
        }
      }
    },
    {
      "cell_type": "markdown",
      "source": [
        "#### Use custom NuGet packages ####"
      ],
      "metadata": {
        "nteract": {
          "transient": {
            "deleting": false
          }
        }
      }
    },
    {
      "cell_type": "code",
      "source": [
        "#r \"nuget: Bogus\"\n",
        "#r \"nuget: System.Linq\"\n",
        "#r \"nuget: System.Linq.Expressions\""
      ],
      "outputs": [],
      "execution_count": null,
      "metadata": {
        "collapsed": true,
        "outputExpanded": false,
        "jupyter": {
          "source_hidden": false,
          "outputs_hidden": false
        },
        "nteract": {
          "transient": {
            "deleting": false
          }
        },
        "execution": {
          "iopub.status.busy": "2020-05-15T21:33:01.109Z",
          "iopub.status.idle": "2020-05-15T21:33:02.530Z",
          "shell.execute_reply": "2020-05-15T21:33:02.561Z"
        }
      }
    },
    {
      "cell_type": "code",
      "source": [
        "using System.Linq;\n",
        "using System.Collections.Generic;\n",
        "using System.Linq.Expressions;\n",
        "using System;\n",
        "using Bogus;\n",
        "\n",
        "static List<PaymentEvent> GenerateRandomPaymentEvents(int numberOfDocumentsPerBatch)\n",
        "{\n",
        "    var faker = new Faker();\n",
        "\n",
        "    var paymentEvent = new Faker<PaymentEvent>()\n",
        "        .StrictMode(true)\n",
        "        //Generate event\n",
        "        .RuleFor(o => o.id, f => Guid.NewGuid().ToString())\n",
        "        .RuleFor(o => o.Amount, f => f.Finance.Amount())\n",
        "        .RuleFor(o => o.TransactionType, f => f.Finance.TransactionType())\n",
        "        .RuleFor(o => o.Currency, f => f.Finance.Currency().ToString())\n",
        "        .RuleFor(o => o.Username, f => f.Internet.UserName())\n",
        "        .RuleFor(o => o.Country, f => f.Address.Country())\n",
        "        .RuleFor(o => o.Address, f => f.Address.StreetAddress())\n",
        "        .RuleFor(o => o.Timestamp, f => DateTime.Now) // just today's date\n",
        "        .RuleFor(o => o.Date, (f, m) => $\"{m.Timestamp.ToString(\"yyyy-MM-dd\")}\");\n",
        "\n",
        "    var events = paymentEvent.Generate(numberOfDocumentsPerBatch);\n",
        "    \n",
        "    return events;\n",
        "    \n",
        "}"
      ],
      "outputs": [
        {
          "output_type": "execute_result",
          "execution_count": 15,
          "data": {},
          "metadata": {}
        }
      ],
      "execution_count": 15,
      "metadata": {
        "collapsed": true,
        "outputExpanded": false,
        "jupyter": {
          "source_hidden": false,
          "outputs_hidden": false
        },
        "nteract": {
          "transient": {
            "deleting": false
          }
        },
        "execution": {
          "iopub.status.busy": "2020-05-15T21:33:12.230Z",
          "iopub.status.idle": "2020-05-15T21:33:12.716Z",
          "shell.execute_reply": "2020-05-15T21:33:12.817Z"
        }
      }
    },
    {
      "cell_type": "markdown",
      "source": [
        "#### Write data to PaymentData container ####"
      ],
      "metadata": {
        "nteract": {
          "transient": {
            "deleting": false
          }
        }
      }
    },
    {
      "cell_type": "code",
      "source": [
        "var paymentEvents = GenerateRandomPaymentEvents(100);\n",
        "\n",
        "foreach (PaymentEvent paymentEvent in paymentEvents)\n",
        "{\n",
        "    var itemResponse = await container.CreateItemAsync<PaymentEvent>(paymentEvent);\n",
        "}\n",
        "\n",
        "Display.AsMarkdown(@\"\n",
        "Created 100 items in PaymentData container. \n",
        "\");"
      ],
      "outputs": [],
      "execution_count": null,
      "metadata": {
        "collapsed": true,
        "execution": {
          "iopub.execute_input": "2020-05-15T21:33:19.659Z",
          "iopub.status.busy": "2020-05-15T21:33:19.486Z",
          "iopub.status.idle": "2020-05-15T21:33:19.766Z",
          "shell.execute_reply": "2020-05-15T21:33:19.777Z"
        },
        "jupyter": {
          "outputs_hidden": false,
          "source_hidden": false
        },
        "nteract": {
          "transient": {
            "deleting": false
          }
        },
        "outputExpanded": false,
        "trusted": true
      }
    },
    {
      "cell_type": "markdown",
      "source": [
        "### Query your data ###"
      ],
      "metadata": {
        "nteract": {
          "transient": {
            "deleting": false
          }
        }
      }
    },
    {
      "cell_type": "code",
      "source": [
        "using System.Linq;\n",
        "\n",
        "QueryDefinition queryDefinition = new QueryDefinition(\"SELECT * FROM c WHERE c.TransactionType IN ('deposit', 'invoice', 'withdrawal')\");\n",
        "\n",
        "FeedIterator<PaymentEvent> queryResultSetIterator = container.GetItemQueryIterator<PaymentEvent>(queryDefinition);\n",
        "\n",
        "List<PaymentEvent> paymentEvents = new List<PaymentEvent>();\n",
        "\n",
        "while (queryResultSetIterator.HasMoreResults)\n",
        "{\n",
        "    FeedResponse<PaymentEvent> currentResultSet = await queryResultSetIterator.ReadNextAsync();\n",
        "    foreach (PaymentEvent paymentEvent in currentResultSet)\n",
        "    {\n",
        "        paymentEvents.Add(paymentEvent);\n",
        "    }\n",
        "}\n",
        "\n",
        "paymentEvents.Take(20)"
      ],
      "outputs": [],
      "execution_count": null,
      "metadata": {
        "collapsed": true,
        "execution": {
          "iopub.status.busy": "2020-05-15T21:33:47.322Z",
          "iopub.status.idle": "2020-05-15T21:33:48.168Z",
          "shell.execute_reply": "2020-05-15T21:33:48.349Z"
        },
        "jupyter": {
          "outputs_hidden": false,
          "source_hidden": false
        },
        "nteract": {
          "transient": {
            "deleting": false
          }
        },
        "outputExpanded": false,
        "trusted": true
      }
    },
    {
      "cell_type": "markdown",
      "source": [
        "Message: Hello Build audience!"
      ],
      "metadata": {
        "nteract": {
          "transient": {
            "deleting": false
          }
        }
      }
    },
    {
      "cell_type": "markdown",
      "source": [],
      "metadata": {
        "nteract": {
          "transient": {
            "deleting": false
          }
        }
      }
    }
  ],
  "metadata": {
    "kernelspec": {
      "displayName": "CSharp",
      "language": "csharp",
      "name": "csharp"
    },
    "language_info": {
      "name": "csharp",
      "version": "7.3",
      "mimetype": "application/json",
      "file_extension": "ipynb",
      "codemirror_mode": "text/x-csharp"
    },
    "nteract": {
      "version": "dataExplorer 1.0"
    }
  },
  "nbformat": 4,
  "nbformat_minor": 4
}