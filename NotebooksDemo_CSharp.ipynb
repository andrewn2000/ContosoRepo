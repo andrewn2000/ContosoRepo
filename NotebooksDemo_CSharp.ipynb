{
  "cells": [
    {
      "cell_type": "markdown",
      "source": [
        "## Welcome to C# notebooks in Azure Cosmos DB!## "
      ],
      "metadata": {
        "nteract": {
          "transient": {
            "deleting": false
          }
        }
      }
    },
    {
      "cell_type": "markdown",
      "source": [
        "### Use Cosmos .NET SDK to create resources ###"
      ],
      "metadata": {
        "nteract": {
          "transient": {
            "deleting": false
          }
        }
      }
    },
    {
      "cell_type": "code",
      "source": [
        "using System;\n",
        "using Microsoft.Azure.Cosmos;\n",
        "using System.Collections;\n",
        "\n",
        "// Initialize a new instance of CosmosClient using the built-in account endpoint and key parameters\n",
        "CosmosClient cosmosClient = new CosmosClient(Cosmos.Endpoint, Cosmos.Key);\n",
        "\n",
        "// Create a new database and container with 400 RU/s\n",
        "Microsoft.Azure.Cosmos.Database database = await cosmosClient.CreateDatabaseIfNotExistsAsync(\"Demo\");\n",
        "Container container = await database.CreateContainerIfNotExistsAsync(\"PaymentData\", \"/id\", 400);\n",
        "\n",
        "Display.AsMarkdown(@\"\n",
        "Created database Demo and container PaymentData.\n",
        "\");"
      ],
      "outputs": [
        {
          "output_type": "execute_result",
          "execution_count": 7,
          "data": {},
          "metadata": {}
        },
        {
          "output_type": "display_data",
          "data": {
            "text/plain": [
              "<IPython.core.display.Markdown object>"
            ],
            "text/markdown": [
              "\n",
              "Created database Demo and container PaymentData.\n"
            ]
          },
          "metadata": {}
        }
      ],
      "execution_count": 3,
      "metadata": {
        "collapsed": true,
        "execution": {
          "iopub.execute_input": "2020-05-15T20:55:18.923Z",
          "iopub.status.busy": "2020-05-15T20:55:18.915Z",
          "iopub.status.idle": "2020-05-15T20:55:18.968Z",
          "shell.execute_reply": "2020-05-15T20:55:18.971Z"
        },
        "jupyter": {
          "outputs_hidden": false,
          "source_hidden": false
        },
        "nteract": {
          "transient": {
            "deleting": false
          }
        },
        "outputExpanded": false,
        "trusted": true
      }
    },
    {
      "cell_type": "markdown",
      "source": [
        "### Represent C# classes ###"
      ],
      "metadata": {
        "nteract": {
          "transient": {
            "deleting": false
          }
        }
      }
    },
    {
      "cell_type": "code",
      "source": [
        "using System;\n",
        "\n",
        "class PaymentEvent\n",
        "{\n",
        "    public string id { get; set; }\n",
        "\n",
        "    public Decimal Amount { get; set; }\n",
        "\n",
        "    public string TransactionType { get; set; }\n",
        "\n",
        "    public string Currency { get; set; }\n",
        "\n",
        "    public string Username { get; set; }\n",
        "\n",
        "    public string Country { get; set; }\n",
        "\n",
        "    public string Address { get; set; }\n",
        "\n",
        "    public string Date { get; set; }\n",
        "\n",
        "    public DateTime Timestamp { get; set; }\n",
        "\n",
        "}"
      ],
      "outputs": [
        {
          "output_type": "execute_result",
          "execution_count": 8,
          "data": {},
          "metadata": {}
        }
      ],
      "execution_count": 8,
      "metadata": {
        "collapsed": true,
        "execution": {
          "iopub.status.busy": "2020-05-15T20:55:18.958Z",
          "iopub.status.idle": "2020-05-15T20:55:19.244Z",
          "shell.execute_reply": "2020-05-15T20:55:19.254Z"
        },
        "jupyter": {
          "outputs_hidden": false,
          "source_hidden": false
        },
        "nteract": {
          "transient": {
            "deleting": false
          }
        },
        "outputExpanded": false,
        "trusted": true
      }
    },
    {
      "cell_type": "markdown",
      "source": [
        "### Generate some data ###"
      ],
      "metadata": {
        "nteract": {
          "transient": {
            "deleting": false
          }
        }
      }
    },
    {
      "cell_type": "markdown",
      "source": [
        "#### Use custom NuGet packages ####"
      ],
      "metadata": {
        "nteract": {
          "transient": {
            "deleting": false
          }
        }
      }
    },
    {
      "cell_type": "code",
      "source": [
        "#r \"nuget: Bogus\"\n",
        "#r \"nuget: System.Linq\"\n",
        "#r \"nuget: System.Linq.Expressions\""
      ],
      "outputs": [
        {
          "output_type": "execute_result",
          "execution_count": 9,
          "data": {},
          "metadata": {}
        }
      ],
      "execution_count": 9,
      "metadata": {
        "collapsed": true,
        "outputExpanded": false,
        "jupyter": {
          "source_hidden": false,
          "outputs_hidden": false
        },
        "nteract": {
          "transient": {
            "deleting": false
          }
        },
        "execution": {
          "iopub.status.busy": "2020-05-15T20:55:19.264Z",
          "iopub.status.idle": "2020-05-15T20:55:20.449Z",
          "shell.execute_reply": "2020-05-15T20:55:20.499Z"
        }
      }
    },
    {
      "cell_type": "code",
      "source": [
        "using System.Linq;\n",
        "using System.Collections.Generic;\n",
        "using System.Linq.Expressions;\n",
        "using System;\n",
        "using Bogus;\n",
        "\n",
        "static List<PaymentEvent> GenerateRandomPaymentEvents(int numberOfDocumentsPerBatch)\n",
        "{\n",
        "    var faker = new Faker();\n",
        "\n",
        "    var paymentEvent = new Faker<PaymentEvent>()\n",
        "        .StrictMode(true)\n",
        "        //Generate event\n",
        "        .RuleFor(o => o.id, f => Guid.NewGuid().ToString())\n",
        "        .RuleFor(o => o.Amount, f => f.Finance.Amount())\n",
        "        .RuleFor(o => o.TransactionType, f => f.Finance.TransactionType())\n",
        "        .RuleFor(o => o.Currency, f => f.Finance.Currency().ToString())\n",
        "        .RuleFor(o => o.Username, f => f.Internet.UserName())\n",
        "        .RuleFor(o => o.Country, f => f.Address.Country())\n",
        "        .RuleFor(o => o.Address, f => f.Address.StreetAddress())\n",
        "        .RuleFor(o => o.Timestamp, f => DateTime.Now) // just today's date\n",
        "        .RuleFor(o => o.Date, (f, m) => $\"{m.Timestamp.ToString(\"yyyy-MM-dd\")}\");\n",
        "\n",
        "    var events = paymentEvent.Generate(numberOfDocumentsPerBatch);\n",
        "    \n",
        "    return events;\n",
        "    \n",
        "}"
      ],
      "outputs": [
        {
          "output_type": "execute_result",
          "execution_count": 10,
          "data": {},
          "metadata": {}
        }
      ],
      "execution_count": 10,
      "metadata": {
        "collapsed": true,
        "outputExpanded": false,
        "jupyter": {
          "source_hidden": false,
          "outputs_hidden": false
        },
        "nteract": {
          "transient": {
            "deleting": false
          }
        },
        "execution": {
          "iopub.status.busy": "2020-05-15T20:55:20.514Z",
          "iopub.status.idle": "2020-05-15T20:55:20.751Z",
          "shell.execute_reply": "2020-05-15T20:55:20.803Z"
        }
      }
    },
    {
      "cell_type": "markdown",
      "source": [
        "#### Write data to PaymentData container ####"
      ],
      "metadata": {
        "nteract": {
          "transient": {
            "deleting": false
          }
        }
      }
    },
    {
      "cell_type": "code",
      "source": [
        "var paymentEvents = GenerateRandomPaymentEvents(100);\n",
        "\n",
        "foreach (PaymentEvent paymentEvent in paymentEvents)\n",
        "{\n",
        "    var itemResponse = await container.CreateItemAsync<PaymentEvent>(paymentEvent);\n",
        "}\n",
        "\n",
        "Display.AsMarkdown(@\"\n",
        "Created 100 items in PaymentData container. \n",
        "\");"
      ],
      "outputs": [
        {
          "output_type": "execute_result",
          "execution_count": 11,
          "data": {},
          "metadata": {}
        },
        {
          "output_type": "display_data",
          "data": {
            "text/plain": [
              "<IPython.core.display.Markdown object>"
            ],
            "text/markdown": [
              "\n",
              "Created 100 items in PaymentData container. \n"
            ]
          },
          "metadata": {}
        }
      ],
      "execution_count": 4,
      "metadata": {
        "collapsed": true,
        "execution": {
          "iopub.execute_input": "2020-05-15T20:55:22.180Z",
          "iopub.status.busy": "2020-05-15T20:55:22.175Z",
          "iopub.status.idle": "2020-05-15T20:55:22.195Z",
          "shell.execute_reply": "2020-05-15T20:55:22.200Z"
        },
        "jupyter": {
          "outputs_hidden": false,
          "source_hidden": false
        },
        "nteract": {
          "transient": {
            "deleting": false
          }
        },
        "outputExpanded": false,
        "trusted": true
      }
    },
    {
      "cell_type": "markdown",
      "source": [
        "### Query your data ###"
      ],
      "metadata": {
        "nteract": {
          "transient": {
            "deleting": false
          }
        }
      }
    },
    {
      "cell_type": "code",
      "source": [
        "using System.Linq;\n",
        "\n",
        "QueryDefinition queryDefinition = new QueryDefinition(\"SELECT * FROM c WHERE c.TransactionType IN ('deposit', 'invoice', 'withdrawal')\");\n",
        "\n",
        "FeedIterator<PaymentEvent> queryResultSetIterator = container.GetItemQueryIterator<PaymentEvent>(queryDefinition);\n",
        "\n",
        "List<PaymentEvent> paymentEvents = new List<PaymentEvent>();\n",
        "\n",
        "while (queryResultSetIterator.HasMoreResults)\n",
        "{\n",
        "    FeedResponse<PaymentEvent> currentResultSet = await queryResultSetIterator.ReadNextAsync();\n",
        "    foreach (PaymentEvent paymentEvent in currentResultSet)\n",
        "    {\n",
        "        paymentEvents.Add(paymentEvent);\n",
        "    }\n",
        "}\n",
        "\n",
        "paymentEvents.Take(20)"
      ],
      "outputs": [
        {
          "output_type": "execute_result",
          "execution_count": 13,
          "data": {
            "text/plain": [
              "System.Linq.Enumerable+ListPartition`1[Submission#11+PaymentEvent]"
            ],
            "application/vnd.dataresource+json": {
              "data": [
                {
                  "id": "b5c091b8-993d-4938-9183-b3eb9913d769",
                  "Amount": 217.64,
                  "TransactionType": "withdrawal",
                  "Currency": "Bogus.DataSets.Currency",
                  "Username": "Gilbert.OConner",
                  "Country": "Yemen",
                  "Address": "539 Hackett Run",
                  "Date": "2020-05-15",
                  "Timestamp": "2020-05-15T20:55:13.8827449+00:00",
                  "index": 0
                },
                {
                  "id": "54469ec9-c8a8-431a-99b2-578f16b87c20",
                  "Amount": 681.69,
                  "TransactionType": "withdrawal",
                  "Currency": "Bogus.DataSets.Currency",
                  "Username": "Joesph60",
                  "Country": "Guam",
                  "Address": "7650 Greenfelder Bridge",
                  "Date": "2020-05-15",
                  "Timestamp": "2020-05-15T20:55:13.8838191+00:00",
                  "index": 1
                },
                {
                  "id": "d6ddb260-9758-46b4-b97c-173f1cb395da",
                  "Amount": 358.33,
                  "TransactionType": "invoice",
                  "Currency": "Bogus.DataSets.Currency",
                  "Username": "Alfredo.Lang",
                  "Country": "Syrian Arab Republic",
                  "Address": "018 Lavonne Lock",
                  "Date": "2020-05-15",
                  "Timestamp": "2020-05-15T20:55:13.8838565+00:00",
                  "index": 2
                },
                {
                  "id": "73c6eb3b-6b7a-47a6-ab7b-43802e8547e0",
                  "Amount": 693.81,
                  "TransactionType": "withdrawal",
                  "Currency": "Bogus.DataSets.Currency",
                  "Username": "Immanuel98",
                  "Country": "Pitcairn Islands",
                  "Address": "930 Norwood Road",
                  "Date": "2020-05-15",
                  "Timestamp": "2020-05-15T20:55:13.8838802+00:00",
                  "index": 3
                },
                {
                  "id": "e4141999-fb45-45ee-a8c3-d98174c73139",
                  "Amount": 202.84,
                  "TransactionType": "withdrawal",
                  "Currency": "Bogus.DataSets.Currency",
                  "Username": "Magdalen.Swift67",
                  "Country": "Republic of Korea",
                  "Address": "154 Brooklyn Shoals",
                  "Date": "2020-05-15",
                  "Timestamp": "2020-05-15T20:55:13.883917+00:00",
                  "index": 4
                },
                {
                  "id": "d50d6157-c9c8-4c07-a2aa-5c69e6465462",
                  "Amount": 442.89,
                  "TransactionType": "withdrawal",
                  "Currency": "Bogus.DataSets.Currency",
                  "Username": "Darlene.Corkery90",
                  "Country": "Slovakia (Slovak Republic)",
                  "Address": "944 Jeremie Dale",
                  "Date": "2020-05-15",
                  "Timestamp": "2020-05-15T20:55:13.8840344+00:00",
                  "index": 5
                },
                {
                  "id": "469d0e79-e083-458d-b415-948a06637b89",
                  "Amount": 396.68,
                  "TransactionType": "deposit",
                  "Currency": "Bogus.DataSets.Currency",
                  "Username": "Kaelyn.Wiza77",
                  "Country": "Virgin Islands, British",
                  "Address": "5632 Mann Ramp",
                  "Date": "2020-05-15",
                  "Timestamp": "2020-05-15T20:55:13.8840693+00:00",
                  "index": 6
                },
                {
                  "id": "9046096e-3888-4670-b6d8-5e446412415b",
                  "Amount": 653.39,
                  "TransactionType": "invoice",
                  "Currency": "Bogus.DataSets.Currency",
                  "Username": "Ana_Johns",
                  "Country": "Bahrain",
                  "Address": "8973 Wendy Meadow",
                  "Date": "2020-05-15",
                  "Timestamp": "2020-05-15T20:55:13.8840934+00:00",
                  "index": 7
                },
                {
                  "id": "4bdbf556-5b06-4731-b215-30d966541673",
                  "Amount": 22.59,
                  "TransactionType": "invoice",
                  "Currency": "Bogus.DataSets.Currency",
                  "Username": "Janessa.Lebsack",
                  "Country": "Chile",
                  "Address": "2818 Deanna View",
                  "Date": "2020-05-15",
                  "Timestamp": "2020-05-15T20:55:13.8841186+00:00",
                  "index": 8
                },
                {
                  "id": "936d2f39-27d8-46ff-b2b3-da69f6f41e1a",
                  "Amount": 613.6,
                  "TransactionType": "withdrawal",
                  "Currency": "Bogus.DataSets.Currency",
                  "Username": "Adolfo.Gislason",
                  "Country": "Mauritius",
                  "Address": "963 Daniel Forges",
                  "Date": "2020-05-15",
                  "Timestamp": "2020-05-15T20:55:13.884191+00:00",
                  "index": 9
                },
                {
                  "id": "c72edc8c-19d7-4475-b2a3-cbcd39dafbf9",
                  "Amount": 452.7,
                  "TransactionType": "invoice",
                  "Currency": "Bogus.DataSets.Currency",
                  "Username": "Mozelle17",
                  "Country": "French Guiana",
                  "Address": "88747 Kohler Road",
                  "Date": "2020-05-15",
                  "Timestamp": "2020-05-15T20:55:13.8842414+00:00",
                  "index": 10
                },
                {
                  "id": "33fe997a-7c23-49af-8f12-12a3f1b5869a",
                  "Amount": 496.83,
                  "TransactionType": "withdrawal",
                  "Currency": "Bogus.DataSets.Currency",
                  "Username": "Josiah85",
                  "Country": "Martinique",
                  "Address": "26979 Kris Stream",
                  "Date": "2020-05-15",
                  "Timestamp": "2020-05-15T20:55:13.8842642+00:00",
                  "index": 11
                },
                {
                  "id": "93853bbb-42c9-4986-ae97-454189396e2b",
                  "Amount": 989.07,
                  "TransactionType": "invoice",
                  "Currency": "Bogus.DataSets.Currency",
                  "Username": "Torrey_Larson",
                  "Country": "Saint Lucia",
                  "Address": "48708 Rosenbaum Grove",
                  "Date": "2020-05-15",
                  "Timestamp": "2020-05-15T20:55:13.8843152+00:00",
                  "index": 12
                },
                {
                  "id": "f5b288d9-7804-46e7-a4db-e04f70fe61a7",
                  "Amount": 457.5,
                  "TransactionType": "invoice",
                  "Currency": "Bogus.DataSets.Currency",
                  "Username": "Anibal_Hermann",
                  "Country": "Jersey",
                  "Address": "18327 Schumm Locks",
                  "Date": "2020-05-15",
                  "Timestamp": "2020-05-15T20:55:13.8843566+00:00",
                  "index": 13
                },
                {
                  "id": "930557cc-eecd-4fd9-9463-8f1428bcbc66",
                  "Amount": 843.94,
                  "TransactionType": "invoice",
                  "Currency": "Bogus.DataSets.Currency",
                  "Username": "Skyla_Schaden",
                  "Country": "South Georgia and the South Sandwich Islands",
                  "Address": "07718 Dare Ways",
                  "Date": "2020-05-15",
                  "Timestamp": "2020-05-15T20:55:13.8843754+00:00",
                  "index": 14
                },
                {
                  "id": "87922368-bf01-44ea-93c2-bd282522fbe8",
                  "Amount": 22.93,
                  "TransactionType": "invoice",
                  "Currency": "Bogus.DataSets.Currency",
                  "Username": "Kaley96",
                  "Country": "Slovenia",
                  "Address": "911 Jacobi View",
                  "Date": "2020-05-15",
                  "Timestamp": "2020-05-15T20:55:13.8843941+00:00",
                  "index": 15
                },
                {
                  "id": "3810b16e-796e-4315-bcd2-6e7b3a2692c6",
                  "Amount": 882.87,
                  "TransactionType": "deposit",
                  "Currency": "Bogus.DataSets.Currency",
                  "Username": "Ken.Wuckert52",
                  "Country": "Palau",
                  "Address": "069 Arden Spur",
                  "Date": "2020-05-15",
                  "Timestamp": "2020-05-15T20:55:13.8844132+00:00",
                  "index": 16
                },
                {
                  "id": "0469c14c-fd59-48d8-900a-d249c9f4050b",
                  "Amount": 930.2,
                  "TransactionType": "withdrawal",
                  "Currency": "Bogus.DataSets.Currency",
                  "Username": "Aurore.Haag",
                  "Country": "Uganda",
                  "Address": "1708 Douglas Mount",
                  "Date": "2020-05-15",
                  "Timestamp": "2020-05-15T20:55:13.8844311+00:00",
                  "index": 17
                },
                {
                  "id": "33a0997d-975c-4fde-88ef-b4b80b0b60c2",
                  "Amount": 428.06,
                  "TransactionType": "deposit",
                  "Currency": "Bogus.DataSets.Currency",
                  "Username": "Petra_Adams",
                  "Country": "Aruba",
                  "Address": "14921 Erica Haven",
                  "Date": "2020-05-15",
                  "Timestamp": "2020-05-15T20:55:13.8845566+00:00",
                  "index": 18
                },
                {
                  "id": "fdb65d46-e0e0-4f8d-a0f4-254c0126e6a4",
                  "Amount": 93.09,
                  "TransactionType": "deposit",
                  "Currency": "Bogus.DataSets.Currency",
                  "Username": "Dayton_Terry",
                  "Country": "Fiji",
                  "Address": "723 Hammes Shores",
                  "Date": "2020-05-15",
                  "Timestamp": "2020-05-15T20:55:13.8845948+00:00",
                  "index": 19
                }
              ],
              "schema": {
                "fields": [
                  {
                    "name": "index",
                    "type": "integer"
                  },
                  {
                    "name": "id",
                    "type": "string"
                  },
                  {
                    "name": "Amount",
                    "type": "number"
                  },
                  {
                    "name": "TransactionType",
                    "type": "string"
                  },
                  {
                    "name": "Currency",
                    "type": "string"
                  },
                  {
                    "name": "Username",
                    "type": "string"
                  },
                  {
                    "name": "Country",
                    "type": "string"
                  },
                  {
                    "name": "Address",
                    "type": "string"
                  },
                  {
                    "name": "Date",
                    "type": "string"
                  },
                  {
                    "name": "Timestamp",
                    "type": "string"
                  }
                ],
                "primaryKey": [
                  "index"
                ]
              }
            }
          },
          "metadata": {
            "application/vnd.dataresource+json": {
              "dx": {
                "summaryType": "violin",
                "marginalGraphics": "none",
                "view": "grid",
                "areaType": "hexbin",
                "selectedDimensions": [
                  "Currency"
                ],
                "selectedMetrics": [],
                "networkType": "force",
                "pieceType": "bar",
                "lineType": "line",
                "hierarchyType": "dendrogram",
                "colors": [
                  "#DA752E",
                  "#E5C209",
                  "#1441A0",
                  "#B86117",
                  "#4D430C",
                  "#1DB390",
                  "#B3331D",
                  "#088EB2",
                  "#417505",
                  "#E479A8",
                  "#F9F39E",
                  "#5782DC",
                  "#EBA97B",
                  "#A2AB60",
                  "#B291CF",
                  "#8DD2C2",
                  "#E6A19F",
                  "#3DC7E0",
                  "#98CE5B"
                ],
                "trendLine": "none",
                "barGrouping": "Clustered",
                "chart": {
                  "metric1": "Amount",
                  "metric2": "none",
                  "timeseriesSort": "array-order",
                  "metric3": "none",
                  "metric4": "none",
                  "networkLabel": "none",
                  "dim1": "Currency",
                  "dim2": "Date",
                  "dim3": "none"
                }
              }
            }
          }
        }
      ],
      "execution_count": 13,
      "metadata": {
        "collapsed": true,
        "execution": {
          "iopub.status.busy": "2020-05-15T20:56:28.710Z",
          "iopub.status.idle": "2020-05-15T20:56:29.449Z",
          "shell.execute_reply": "2020-05-15T20:56:29.470Z"
        },
        "jupyter": {
          "outputs_hidden": false,
          "source_hidden": false
        },
        "nteract": {
          "transient": {
            "deleting": false
          }
        },
        "outputExpanded": false,
        "trusted": true
      }
    },
    {
      "cell_type": "markdown",
      "source": [
        "Message: "
      ],
      "metadata": {
        "nteract": {
          "transient": {
            "deleting": false
          }
        }
      }
    },
    {
      "cell_type": "markdown",
      "source": [],
      "metadata": {
        "nteract": {
          "transient": {
            "deleting": false
          }
        }
      }
    }
  ],
  "metadata": {
    "kernelspec": {
      "displayName": "CSharp",
      "language": "csharp",
      "name": "csharp"
    },
    "language_info": {
      "name": "csharp",
      "version": "7.3",
      "mimetype": "application/json",
      "file_extension": "ipynb",
      "codemirror_mode": "text/x-csharp"
    },
    "nteract": {
      "version": "dataExplorer 1.0"
    }
  },
  "nbformat": 4,
  "nbformat_minor": 4
}