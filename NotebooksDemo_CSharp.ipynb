{
  "cells": [
    {
      "cell_type": "markdown",
      "source": [
        "## Welcome to C# notebooks in Azure Cosmos DB!## "
      ],
      "metadata": {
        "nteract": {
          "transient": {
            "deleting": false
          }
        }
      }
    },
    {
      "cell_type": "markdown",
      "source": [
        "### Use Cosmos .NET SDK to create resources ###"
      ],
      "metadata": {
        "nteract": {
          "transient": {
            "deleting": false
          }
        }
      }
    },
    {
      "cell_type": "code",
      "source": [
        "using System;\n",
        "using Microsoft.Azure.Cosmos;\n",
        "using System.Collections;\n",
        "\n",
        "// Initialize a new instance of CosmosClient using the built-in account endpoint and key parameters\n",
        "CosmosClient cosmosClient = new CosmosClient(Cosmos.Endpoint, Cosmos.Key);\n",
        "\n",
        "// Create a new database and container with 400 RU/s\n",
        "Microsoft.Azure.Cosmos.Database database = await cosmosClient.CreateDatabaseIfNotExistsAsync(\"Demo\");\n",
        "Container container = await database.CreateContainerIfNotExistsAsync(\"PaymentData\", \"/id\", 400);\n",
        "\n",
        "Display.AsMarkdown($\"Created database {database.Id} and container {container.Id}.\");"
      ],
      "outputs": [
        {
          "output_type": "execute_result",
          "execution_count": 30,
          "data": {},
          "metadata": {}
        },
        {
          "output_type": "display_data",
          "data": {
            "text/plain": [
              "<IPython.core.display.Markdown object>"
            ],
            "text/markdown": [
              "Created database Demo and container PaymentData."
            ]
          },
          "metadata": {}
        }
      ],
      "execution_count": 10,
      "metadata": {
        "collapsed": true,
        "execution": {
          "iopub.execute_input": "2020-05-20T21:02:43.460Z",
          "iopub.status.busy": "2020-05-20T21:02:43.426Z",
          "iopub.status.idle": "2020-05-20T21:02:43.497Z",
          "shell.execute_reply": "2020-05-20T21:02:43.511Z"
        },
        "jupyter": {
          "outputs_hidden": false,
          "source_hidden": false
        },
        "nteract": {
          "transient": {
            "deleting": false
          }
        },
        "outputExpanded": false,
        "trusted": true
      }
    },
    {
      "cell_type": "markdown",
      "source": [
        "### Represent C# classes ###"
      ],
      "metadata": {
        "nteract": {
          "transient": {
            "deleting": false
          }
        }
      }
    },
    {
      "cell_type": "code",
      "source": [
        "using System;\n",
        "\n",
        "class PaymentEvent\n",
        "{\n",
        "    public string id { get; set; }\n",
        "\n",
        "    public Decimal Amount { get; set; }\n",
        "\n",
        "    public string TransactionType { get; set; }\n",
        "\n",
        "    public string Currency { get; set; }\n",
        "\n",
        "    public string Username { get; set; }\n",
        "\n",
        "    public string Country { get; set; }\n",
        "\n",
        "    public string Address { get; set; }\n",
        "\n",
        "    public string Date { get; set; }\n",
        "\n",
        "    public DateTime Timestamp { get; set; }\n",
        "\n",
        "}"
      ],
      "outputs": [],
      "execution_count": null,
      "metadata": {
        "collapsed": true,
        "execution": {
          "iopub.status.busy": "2020-05-20T20:54:24.251Z",
          "iopub.status.idle": "2020-05-20T20:54:24.572Z",
          "shell.execute_reply": "2020-05-20T20:54:24.584Z"
        },
        "jupyter": {
          "outputs_hidden": false,
          "source_hidden": false
        },
        "nteract": {
          "transient": {
            "deleting": false
          }
        },
        "outputExpanded": false,
        "trusted": true
      }
    },
    {
      "cell_type": "markdown",
      "source": [
        "### Generate some data ###"
      ],
      "metadata": {
        "nteract": {
          "transient": {
            "deleting": false
          }
        }
      }
    },
    {
      "cell_type": "markdown",
      "source": [
        "#### Use custom NuGet packages ####"
      ],
      "metadata": {
        "nteract": {
          "transient": {
            "deleting": false
          }
        }
      }
    },
    {
      "cell_type": "code",
      "source": [
        "#r \"nuget: Bogus\"\n",
        "#r \"nuget: System.Linq\"\n",
        "#r \"nuget: System.Linq.Expressions\""
      ],
      "outputs": [],
      "execution_count": null,
      "metadata": {
        "collapsed": true,
        "outputExpanded": false,
        "jupyter": {
          "source_hidden": false,
          "outputs_hidden": false
        },
        "nteract": {
          "transient": {
            "deleting": false
          }
        },
        "execution": {
          "iopub.status.busy": "2020-05-20T20:54:24.599Z",
          "iopub.status.idle": "2020-05-20T20:54:25.895Z",
          "shell.execute_reply": "2020-05-20T20:54:25.911Z"
        }
      }
    },
    {
      "cell_type": "code",
      "source": [
        "using System.Linq;\n",
        "using System.Collections.Generic;\n",
        "using System.Linq.Expressions;\n",
        "using System;\n",
        "using Bogus;\n",
        "\n",
        "static List<PaymentEvent> GenerateRandomPaymentEvents(int numberOfDocumentsPerBatch)\n",
        "{\n",
        "    var faker = new Faker();\n",
        "\n",
        "    var paymentEvent = new Faker<PaymentEvent>()\n",
        "        .StrictMode(true)\n",
        "        //Generate event\n",
        "        .RuleFor(o => o.id, f => Guid.NewGuid().ToString())\n",
        "        .RuleFor(o => o.Amount, f => f.Finance.Amount())\n",
        "        .RuleFor(o => o.TransactionType, f => f.Finance.TransactionType())\n",
        "        .RuleFor(o => o.Currency, f => f.Finance.Currency().Code)\n",
        "        .RuleFor(o => o.Username, f => f.Internet.UserName())\n",
        "        .RuleFor(o => o.Country, f => f.Address.Country())\n",
        "        .RuleFor(o => o.Address, f => f.Address.StreetAddress())\n",
        "        .RuleFor(o => o.Timestamp, f => DateTime.Now) // just today's date\n",
        "        .RuleFor(o => o.Date, (f, m) => $\"{m.Timestamp.ToString(\"yyyy-MM-dd\")}\");\n",
        "\n",
        "    var events = paymentEvent.Generate(numberOfDocumentsPerBatch);\n",
        "    \n",
        "    return events;\n",
        "    \n",
        "}"
      ],
      "outputs": [],
      "execution_count": null,
      "metadata": {
        "collapsed": true,
        "outputExpanded": false,
        "jupyter": {
          "source_hidden": false,
          "outputs_hidden": false
        },
        "nteract": {
          "transient": {
            "deleting": false
          }
        },
        "execution": {
          "iopub.status.busy": "2020-05-20T20:54:25.924Z",
          "iopub.status.idle": "2020-05-20T20:54:26.233Z",
          "shell.execute_reply": "2020-05-20T20:54:26.246Z"
        }
      }
    },
    {
      "cell_type": "markdown",
      "source": [
        "#### Write data to PaymentData container ####"
      ],
      "metadata": {
        "nteract": {
          "transient": {
            "deleting": false
          }
        }
      }
    },
    {
      "cell_type": "code",
      "source": [
        "var paymentEvents = GenerateRandomPaymentEvents(100);\n",
        "\n",
        "foreach (PaymentEvent paymentEvent in paymentEvents)\n",
        "{\n",
        "    var itemResponse = await container.CreateItemAsync<PaymentEvent>(paymentEvent);\n",
        "}\n",
        "\n",
        "Display.AsMarkdown(\"Created 100 items in PaymentData container.\");"
      ],
      "outputs": [
        {
          "output_type": "execute_result",
          "execution_count": 31,
          "data": {},
          "metadata": {}
        },
        {
          "output_type": "display_data",
          "data": {
            "text/plain": [
              "<IPython.core.display.Markdown object>"
            ],
            "text/markdown": [
              "Created 100 items in PaymentData container."
            ]
          },
          "metadata": {}
        }
      ],
      "execution_count": 11,
      "metadata": {
        "collapsed": true,
        "execution": {
          "iopub.execute_input": "2020-05-20T21:03:49.120Z",
          "iopub.status.busy": "2020-05-20T21:03:49.065Z",
          "iopub.status.idle": "2020-05-20T21:03:49.143Z",
          "shell.execute_reply": "2020-05-20T21:03:49.149Z"
        },
        "jupyter": {
          "outputs_hidden": false,
          "source_hidden": false
        },
        "nteract": {
          "transient": {
            "deleting": false
          }
        },
        "outputExpanded": false,
        "trusted": true
      }
    },
    {
      "cell_type": "markdown",
      "source": [
        "### Query your data ###"
      ],
      "metadata": {
        "nteract": {
          "transient": {
            "deleting": false
          }
        }
      }
    },
    {
      "cell_type": "code",
      "source": [
        "using System.Linq;\n",
        "\n",
        "QueryDefinition queryDefinition = new QueryDefinition(\"SELECT * FROM c WHERE c.TransactionType IN ('deposit', 'invoice', 'withdrawal')\");\n",
        "\n",
        "FeedIterator<PaymentEvent> queryResultSetIterator = container.GetItemQueryIterator<PaymentEvent>(queryDefinition);\n",
        "\n",
        "List<PaymentEvent> paymentEvents = new List<PaymentEvent>();\n",
        "\n",
        "while (queryResultSetIterator.HasMoreResults)\n",
        "{\n",
        "    FeedResponse<PaymentEvent> currentResultSet = await queryResultSetIterator.ReadNextAsync();\n",
        "    foreach (PaymentEvent paymentEvent in currentResultSet)\n",
        "    {\n",
        "        paymentEvents.Add(paymentEvent);\n",
        "    }\n",
        "}\n",
        "\n",
        "paymentEvents.Take(100)"
      ],
      "outputs": [
        {
          "output_type": "execute_result",
          "execution_count": 32,
          "data": {
            "text/plain": [
              "System.Linq.Enumerable+ListPartition`1[Submission#33+PaymentEvent]"
            ],
            "application/vnd.dataresource+json": {
              "data": [
                {
                  "id": "c285305b-0b57-446e-b7f1-f2bf458fd5c3",
                  "Amount": 444.21,
                  "TransactionType": "withdrawal",
                  "Currency": "LAK",
                  "Username": "Calista_Kassulke52",
                  "Country": "Kyrgyz Republic",
                  "Address": "0774 Cullen Key",
                  "Date": "2020-05-17",
                  "Timestamp": "2020-05-17T21:21:17.5317275+00:00",
                  "index": 0
                },
                {
                  "id": "a5268851-92b8-4957-88ed-83ddcf25daee",
                  "Amount": 950.93,
                  "TransactionType": "withdrawal",
                  "Currency": "USD",
                  "Username": "Elton_Rolfson23",
                  "Country": "United States of America",
                  "Address": "4786 Melody Mountain",
                  "Date": "2020-05-17",
                  "Timestamp": "2020-05-17T21:21:17.5318241+00:00",
                  "index": 1
                },
                {
                  "id": "a61ecd1d-122d-46e8-9fab-3ad59f482156",
                  "Amount": 491.95,
                  "TransactionType": "withdrawal",
                  "Currency": "CZK",
                  "Username": "Caitlyn.Muller33",
                  "Country": "Hong Kong",
                  "Address": "25835 Alanna Land",
                  "Date": "2020-05-17",
                  "Timestamp": "2020-05-17T21:21:17.5318517+00:00",
                  "index": 2
                },
                {
                  "id": "4a21de1f-0a0b-4550-b3f4-ee8f842554a7",
                  "Amount": 267.16,
                  "TransactionType": "invoice",
                  "Currency": "RON",
                  "Username": "Lamont.Walker",
                  "Country": "Uzbekistan",
                  "Address": "171 Alysa Brooks",
                  "Date": "2020-05-17",
                  "Timestamp": "2020-05-17T21:21:17.5318894+00:00",
                  "index": 3
                },
                {
                  "id": "c3bb676a-2ee8-4839-b8b7-df5d68cc0fa9",
                  "Amount": 248.76,
                  "TransactionType": "deposit",
                  "Currency": "PLN",
                  "Username": "Viva15",
                  "Country": "India",
                  "Address": "12529 Adolfo Fall",
                  "Date": "2020-05-17",
                  "Timestamp": "2020-05-17T21:21:17.5319268+00:00",
                  "index": 4
                },
                {
                  "id": "d3fa7d02-8532-4964-be31-fe49731fd5c6",
                  "Amount": 296.33,
                  "TransactionType": "withdrawal",
                  "Currency": "LAK",
                  "Username": "Devante_Lesch",
                  "Country": "Saint Martin",
                  "Address": "58296 Bernhard Cape",
                  "Date": "2020-05-17",
                  "Timestamp": "2020-05-17T21:21:17.5319434+00:00",
                  "index": 5
                },
                {
                  "id": "8fc5b84d-a0d0-4234-84dc-da14d0d774f0",
                  "Amount": 465.28,
                  "TransactionType": "deposit",
                  "Currency": "KZT",
                  "Username": "Ulises_Reichert",
                  "Country": "Benin",
                  "Address": "657 Schowalter Crest",
                  "Date": "2020-05-17",
                  "Timestamp": "2020-05-17T21:21:17.5319615+00:00",
                  "index": 6
                },
                {
                  "id": "121b4aee-a74d-49b9-8c77-5134b61c76b8",
                  "Amount": 342.87,
                  "TransactionType": "invoice",
                  "Currency": "USD",
                  "Username": "Yasmeen9",
                  "Country": "Kazakhstan",
                  "Address": "61925 Dooley Creek",
                  "Date": "2020-05-17",
                  "Timestamp": "2020-05-17T21:21:17.5319789+00:00",
                  "index": 7
                },
                {
                  "id": "f224361a-d691-455c-91ba-7aade2853921",
                  "Amount": 56.13,
                  "TransactionType": "deposit",
                  "Currency": "LKR",
                  "Username": "Favian_OConner44",
                  "Country": "Libyan Arab Jamahiriya",
                  "Address": "432 Veum Common",
                  "Date": "2020-05-17",
                  "Timestamp": "2020-05-17T21:21:17.5335023+00:00",
                  "index": 8
                },
                {
                  "id": "d4fa7a26-2d4d-4aea-8b3d-5757926464ec",
                  "Amount": 79.06,
                  "TransactionType": "invoice",
                  "Currency": "XPT",
                  "Username": "Creola0",
                  "Country": "El Salvador",
                  "Address": "595 Wisoky Gardens",
                  "Date": "2020-05-17",
                  "Timestamp": "2020-05-17T21:21:17.5335327+00:00",
                  "index": 9
                },
                {
                  "id": "f287d51a-8522-46ef-8f6a-1be16a8171d0",
                  "Amount": 797.81,
                  "TransactionType": "withdrawal",
                  "Currency": "AZN",
                  "Username": "Carissa_Gleason",
                  "Country": "Turkmenistan",
                  "Address": "42680 Zoila Way",
                  "Date": "2020-05-17",
                  "Timestamp": "2020-05-17T21:21:17.5335733+00:00",
                  "index": 10
                },
                {
                  "id": "ce0abf50-7141-4182-9551-9195c523acba",
                  "Amount": 352.71,
                  "TransactionType": "withdrawal",
                  "Currency": "XTS",
                  "Username": "Ardella.Effertz48",
                  "Country": "Chad",
                  "Address": "38175 Cody Lakes",
                  "Date": "2020-05-17",
                  "Timestamp": "2020-05-17T21:21:17.5335911+00:00",
                  "index": 11
                },
                {
                  "id": "8494a28d-3bee-4f88-b477-003513b51c81",
                  "Amount": 812.63,
                  "TransactionType": "withdrawal",
                  "Currency": "CZK",
                  "Username": "Rosa_Morar11",
                  "Country": "Kenya",
                  "Address": "0807 Elvie Street",
                  "Date": "2020-05-17",
                  "Timestamp": "2020-05-17T21:21:17.5336087+00:00",
                  "index": 12
                },
                {
                  "id": "76ec8a73-2696-4c68-9b3a-55b79ec5d90a",
                  "Amount": 721.82,
                  "TransactionType": "withdrawal",
                  "Currency": "BWP",
                  "Username": "Odell17",
                  "Country": "Peru",
                  "Address": "340 Nitzsche Dam",
                  "Date": "2020-05-17",
                  "Timestamp": "2020-05-17T21:21:17.5336258+00:00",
                  "index": 13
                },
                {
                  "id": "b879e22d-326e-4087-969d-890062385aed",
                  "Amount": 689.56,
                  "TransactionType": "withdrawal",
                  "Currency": "JOD",
                  "Username": "Hilbert83",
                  "Country": "Saint Vincent and the Grenadines",
                  "Address": "03089 Moore Ridges",
                  "Date": "2020-05-17",
                  "Timestamp": "2020-05-17T21:21:17.5336782+00:00",
                  "index": 14
                },
                {
                  "id": "9dfb4e35-d4f4-42f5-b764-c275b5ef38e1",
                  "Amount": 707.23,
                  "TransactionType": "invoice",
                  "Currency": "CRC",
                  "Username": "Camila_Will",
                  "Country": "Gabon",
                  "Address": "66988 Harvey Crescent",
                  "Date": "2020-05-17",
                  "Timestamp": "2020-05-17T21:21:17.5336942+00:00",
                  "index": 15
                },
                {
                  "id": "e686f718-fafa-4d05-9732-132da5c16f2f",
                  "Amount": 691.9,
                  "TransactionType": "deposit",
                  "Currency": "MYR",
                  "Username": "Arne.DuBuque65",
                  "Country": "British Indian Ocean Territory (Chagos Archipelago)",
                  "Address": "41580 Izaiah Fork",
                  "Date": "2020-05-17",
                  "Timestamp": "2020-05-17T21:21:17.5337121+00:00",
                  "index": 16
                },
                {
                  "id": "31b5aa4c-5790-47ae-9ec9-602988c3a95c",
                  "Amount": 539.27,
                  "TransactionType": "withdrawal",
                  "Currency": "XTS",
                  "Username": "Pearl_Nolan8",
                  "Country": "El Salvador",
                  "Address": "53836 Sauer Estate",
                  "Date": "2020-05-17",
                  "Timestamp": "2020-05-17T21:21:17.5337295+00:00",
                  "index": 17
                },
                {
                  "id": "f023776e-d5fb-4067-8d79-c8bfdedd176b",
                  "Amount": 765.28,
                  "TransactionType": "withdrawal",
                  "Currency": "SOS",
                  "Username": "Elliott.Hagenes",
                  "Country": "Tunisia",
                  "Address": "8833 Aufderhar Estate",
                  "Date": "2020-05-17",
                  "Timestamp": "2020-05-17T21:21:17.5337476+00:00",
                  "index": 18
                },
                {
                  "id": "7a61c50d-ec56-4733-bd21-625d29958223",
                  "Amount": 732.6,
                  "TransactionType": "deposit",
                  "Currency": "XDR",
                  "Username": "Berta.Kshlerin76",
                  "Country": "Andorra",
                  "Address": "5780 Tessie Trafficway",
                  "Date": "2020-05-17",
                  "Timestamp": "2020-05-17T21:21:17.5337645+00:00",
                  "index": 19
                },
                {
                  "id": "f2c0a639-ea9f-408d-a5a1-a1a4f954b0c3",
                  "Amount": 698.16,
                  "TransactionType": "invoice",
                  "Currency": "USD",
                  "Username": "Lyric.Douglas",
                  "Country": "Bahamas",
                  "Address": "98166 Walsh Centers",
                  "Date": "2020-05-17",
                  "Timestamp": "2020-05-17T21:21:17.5337827+00:00",
                  "index": 20
                },
                {
                  "id": "00942aa0-2877-4ccf-beba-37ec90ff3078",
                  "Amount": 534.14,
                  "TransactionType": "deposit",
                  "Currency": "BHD",
                  "Username": "Albina41",
                  "Country": "Armenia",
                  "Address": "472 Anika Park",
                  "Date": "2020-05-17",
                  "Timestamp": "2020-05-17T21:21:17.5338184+00:00",
                  "index": 21
                },
                {
                  "id": "78c51b5f-6a3c-44fe-8840-8652459e306a",
                  "Amount": 971.94,
                  "TransactionType": "withdrawal",
                  "Currency": "IQD",
                  "Username": "Philip65",
                  "Country": "Guernsey",
                  "Address": "96628 Emmanuel Corners",
                  "Date": "2020-05-17",
                  "Timestamp": "2020-05-17T21:21:17.5338358+00:00",
                  "index": 22
                },
                {
                  "id": "4b9353ff-9dd5-4d7e-9dde-ec30cde8b2a9",
                  "Amount": 305.09,
                  "TransactionType": "deposit",
                  "Currency": "USD",
                  "Username": "Kristian_Carroll",
                  "Country": "Norfolk Island",
                  "Address": "2033 Gracie Valleys",
                  "Date": "2020-05-17",
                  "Timestamp": "2020-05-17T21:21:17.5338545+00:00",
                  "index": 23
                },
                {
                  "id": "0910fff1-d15a-4a7a-942d-d971cdcd26de",
                  "Amount": 873.04,
                  "TransactionType": "invoice",
                  "Currency": "ZAR",
                  "Username": "Brandt_Gutkowski",
                  "Country": "Fiji",
                  "Address": "2477 Tyree Streets",
                  "Date": "2020-05-17",
                  "Timestamp": "2020-05-17T21:21:17.533873+00:00",
                  "index": 24
                },
                {
                  "id": "f632892e-6192-4b62-9cce-3f9490c2515d",
                  "Amount": 752.09,
                  "TransactionType": "withdrawal",
                  "Currency": "AMD",
                  "Username": "Bartholome.Bruen27",
                  "Country": "Belarus",
                  "Address": "7009 O'Hara Lane",
                  "Date": "2020-05-17",
                  "Timestamp": "2020-05-17T21:21:17.5339446+00:00",
                  "index": 25
                },
                {
                  "id": "fa896c0e-935c-4f31-8efe-3df74df9cc7a",
                  "Amount": 37.03,
                  "TransactionType": "deposit",
                  "Currency": "UGX",
                  "Username": "Shyanne_Heidenreich16",
                  "Country": "Cyprus",
                  "Address": "80530 Rylan Locks",
                  "Date": "2020-05-17",
                  "Timestamp": "2020-05-17T21:21:17.5339799+00:00",
                  "index": 26
                },
                {
                  "id": "c1bb1bc8-98b2-46dd-b1ab-aa8d96a95e12",
                  "Amount": 159.03,
                  "TransactionType": "deposit",
                  "Currency": "XBC",
                  "Username": "Allen.Lubowitz73",
                  "Country": "Costa Rica",
                  "Address": "897 King Mountain",
                  "Date": "2020-05-17",
                  "Timestamp": "2020-05-17T21:21:17.5339984+00:00",
                  "index": 27
                },
                {
                  "id": "130caa18-5041-4b5a-a50d-7682a3b00402",
                  "Amount": 126.29,
                  "TransactionType": "deposit",
                  "Currency": "GHS",
                  "Username": "Cara66",
                  "Country": "Belgium",
                  "Address": "41786 Predovic Well",
                  "Date": "2020-05-17",
                  "Timestamp": "2020-05-17T21:21:17.5340313+00:00",
                  "index": 28
                },
                {
                  "id": "33bd351e-af2b-4e23-80bc-98f968db183d",
                  "Amount": 183.26,
                  "TransactionType": "withdrawal",
                  "Currency": "XAF",
                  "Username": "Kavon_Dicki",
                  "Country": "Lesotho",
                  "Address": "6672 Cletus Fall",
                  "Date": "2020-05-17",
                  "Timestamp": "2020-05-17T21:21:17.5340829+00:00",
                  "index": 29
                },
                {
                  "id": "898f77e6-b212-4dde-be4c-a479550f566c",
                  "Amount": 676.63,
                  "TransactionType": "deposit",
                  "Currency": "BSD",
                  "Username": "Aliya18",
                  "Country": "China",
                  "Address": "8399 Dayton Burg",
                  "Date": "2020-05-17",
                  "Timestamp": "2020-05-17T21:21:17.5341166+00:00",
                  "index": 30
                },
                {
                  "id": "e95e32e1-9fc0-48a8-8c81-4a94c064f7f9",
                  "Amount": 818.8,
                  "TransactionType": "invoice",
                  "Currency": "GHS",
                  "Username": "Anderson_Tremblay38",
                  "Country": "Kazakhstan",
                  "Address": "2919 Volkman Causeway",
                  "Date": "2020-05-17",
                  "Timestamp": "2020-05-17T21:21:17.534135+00:00",
                  "index": 31
                },
                {
                  "id": "dfc6ff73-5924-474b-bdab-e3245dd0a0c4",
                  "Amount": 24.45,
                  "TransactionType": "invoice",
                  "Currency": "ZWL",
                  "Username": "Oswald65",
                  "Country": "Virgin Islands, U.S.",
                  "Address": "028 Fritsch Orchard",
                  "Date": "2020-05-17",
                  "Timestamp": "2020-05-17T21:21:17.5341711+00:00",
                  "index": 32
                },
                {
                  "id": "4e7f120e-fe2b-4b89-8ccb-164643ec68fb",
                  "Amount": 884.78,
                  "TransactionType": "invoice",
                  "Currency": "GHS",
                  "Username": "Paris46",
                  "Country": "Mauritania",
                  "Address": "366 Jamie Shoal",
                  "Date": "2020-05-17",
                  "Timestamp": "2020-05-17T21:21:17.5341866+00:00",
                  "index": 33
                },
                {
                  "id": "3d159c1b-2178-4167-8cbe-1fa50b6c05ab",
                  "Amount": 334.27,
                  "TransactionType": "withdrawal",
                  "Currency": "EGP",
                  "Username": "Alivia22",
                  "Country": "Kiribati",
                  "Address": "8466 Andreane Viaduct",
                  "Date": "2020-05-17",
                  "Timestamp": "2020-05-17T21:21:17.534204+00:00",
                  "index": 34
                },
                {
                  "id": "c501a31a-5ab2-4488-971a-117fd6b82bd0",
                  "Amount": 246.96,
                  "TransactionType": "invoice",
                  "Currency": "EEK",
                  "Username": "Napoleon_Rice",
                  "Country": "Czech Republic",
                  "Address": "46896 Llewellyn Turnpike",
                  "Date": "2020-05-17",
                  "Timestamp": "2020-05-17T21:21:17.5342392+00:00",
                  "index": 35
                },
                {
                  "id": "d0778b00-569b-4208-af04-8ea0471c6e65",
                  "Amount": 612.65,
                  "TransactionType": "invoice",
                  "Currency": "MRO",
                  "Username": "Priscilla_Leuschke",
                  "Country": "Burkina Faso",
                  "Address": "9091 Flo Lake",
                  "Date": "2020-05-17",
                  "Timestamp": "2020-05-17T21:21:17.5342581+00:00",
                  "index": 36
                },
                {
                  "id": "ab67fb3d-6c1a-49d4-88d2-5424affe8c44",
                  "Amount": 807.33,
                  "TransactionType": "withdrawal",
                  "Currency": "BGN",
                  "Username": "Wilfredo_Jenkins83",
                  "Country": "Palestinian Territory",
                  "Address": "332 Adalberto Fords",
                  "Date": "2020-05-17",
                  "Timestamp": "2020-05-17T21:21:17.5342765+00:00",
                  "index": 37
                },
                {
                  "id": "ef4c77ac-f5f6-416c-814a-dedf5c622f10",
                  "Amount": 530.52,
                  "TransactionType": "invoice",
                  "Currency": "IRR",
                  "Username": "Irma.Gleichner",
                  "Country": "Montserrat",
                  "Address": "46928 Hackett Place",
                  "Date": "2020-05-17",
                  "Timestamp": "2020-05-17T21:21:17.5342944+00:00",
                  "index": 38
                },
                {
                  "id": "dccbebe8-c114-421b-956f-85a37fc4f536",
                  "Amount": 378.29,
                  "TransactionType": "invoice",
                  "Currency": "PYG",
                  "Username": "Colt_Conroy85",
                  "Country": "Lithuania",
                  "Address": "01315 Haley Wells",
                  "Date": "2020-05-17",
                  "Timestamp": "2020-05-17T21:21:17.5343104+00:00",
                  "index": 39
                },
                {
                  "id": "3c494369-750f-45cf-9de0-a74691e5709b",
                  "Amount": 328.48,
                  "TransactionType": "invoice",
                  "Currency": "JOD",
                  "Username": "Jarrett14",
                  "Country": "Mayotte",
                  "Address": "143 Gibson Lodge",
                  "Date": "2020-05-17",
                  "Timestamp": "2020-05-17T21:21:17.5343449+00:00",
                  "index": 40
                },
                {
                  "id": "e8ee5f0d-2474-4c56-bd38-9f4d94d84a5b",
                  "Amount": 530.61,
                  "TransactionType": "withdrawal",
                  "Currency": "NPR",
                  "Username": "Piper_Goldner",
                  "Country": "Ethiopia",
                  "Address": "090 Parker Summit",
                  "Date": "2020-05-17",
                  "Timestamp": "2020-05-17T21:21:17.5343611+00:00",
                  "index": 41
                },
                {
                  "id": "adb6d431-a477-40fb-ac60-7a008cd1fdcc",
                  "Amount": 724.52,
                  "TransactionType": "invoice",
                  "Currency": "DOP",
                  "Username": "Amalia.Huels72",
                  "Country": "Cote d'Ivoire",
                  "Address": "70086 Douglas Lodge",
                  "Date": "2020-05-17",
                  "Timestamp": "2020-05-17T21:21:17.5344141+00:00",
                  "index": 42
                },
                {
                  "id": "4fc2493c-c569-4c06-9de1-3ba2cb7d5c9c",
                  "Amount": 918.75,
                  "TransactionType": "deposit",
                  "Currency": "BZD",
                  "Username": "Catherine97",
                  "Country": "Trinidad and Tobago",
                  "Address": "14908 Johnston Drives",
                  "Date": "2020-05-17",
                  "Timestamp": "2020-05-17T21:21:17.5344353+00:00",
                  "index": 43
                },
                {
                  "id": "8586130b-b87d-4c0a-b477-a88a67d7c427",
                  "Amount": 244.63,
                  "TransactionType": "invoice",
                  "Currency": "SEK",
                  "Username": "Misael5",
                  "Country": "Portugal",
                  "Address": "4540 Jay Grove",
                  "Date": "2020-05-17",
                  "Timestamp": "2020-05-17T21:21:17.5344887+00:00",
                  "index": 44
                },
                {
                  "id": "90bd38c8-a880-42de-a916-efb01066e4e9",
                  "Amount": 371.22,
                  "TransactionType": "withdrawal",
                  "Currency": "WST",
                  "Username": "Alva32",
                  "Country": "New Zealand",
                  "Address": "9434 Abelardo Road",
                  "Date": "2020-05-17",
                  "Timestamp": "2020-05-17T21:21:17.5345045+00:00",
                  "index": 45
                },
                {
                  "id": "67f2573c-a619-4eaf-984b-24fbc71c35df",
                  "Amount": 754.54,
                  "TransactionType": "invoice",
                  "Currency": "USD",
                  "Username": "Marlene_McDermott",
                  "Country": "Bulgaria",
                  "Address": "22061 Effertz Wall",
                  "Date": "2020-05-17",
                  "Timestamp": "2020-05-17T21:21:17.5345232+00:00",
                  "index": 46
                },
                {
                  "id": "92c988cb-6187-4443-956a-612cc88b22eb",
                  "Amount": 292.2,
                  "TransactionType": "withdrawal",
                  "Currency": "BDT",
                  "Username": "Anabelle.Morar",
                  "Country": "Cameroon",
                  "Address": "918 Smith Orchard",
                  "Date": "2020-05-17",
                  "Timestamp": "2020-05-17T21:21:17.5345408+00:00",
                  "index": 47
                },
                {
                  "id": "a77ba7d8-414d-44ad-840f-7a3735284213",
                  "Amount": 665.24,
                  "TransactionType": "invoice",
                  "Currency": "LRD",
                  "Username": "Giovanny_Schaefer91",
                  "Country": "Gambia",
                  "Address": "090 Scottie Cliff",
                  "Date": "2020-05-17",
                  "Timestamp": "2020-05-17T21:21:17.5345584+00:00",
                  "index": 48
                },
                {
                  "id": "3faf3ab6-20cf-47b0-a3d5-d88c12c72d4c",
                  "Amount": 786.44,
                  "TransactionType": "deposit",
                  "Currency": "ANG",
                  "Username": "Henriette59",
                  "Country": "Morocco",
                  "Address": "750 Helga Bypass",
                  "Date": "2020-05-17",
                  "Timestamp": "2020-05-17T21:21:17.5345762+00:00",
                  "index": 49
                },
                {
                  "id": "f976f11c-2a97-46f0-b8dc-63ef7611de90",
                  "Amount": 727.7,
                  "TransactionType": "invoice",
                  "Currency": "SZL",
                  "Username": "Rebeka_Botsford",
                  "Country": "Mayotte",
                  "Address": "421 Alfred Squares",
                  "Date": "2020-05-17",
                  "Timestamp": "2020-05-17T21:21:17.5346122+00:00",
                  "index": 50
                },
                {
                  "id": "151e633c-df00-4d61-a0b2-d98af5f34a6b",
                  "Amount": 235.85,
                  "TransactionType": "withdrawal",
                  "Currency": "SCR",
                  "Username": "Jada_Moen",
                  "Country": "Jamaica",
                  "Address": "091 Verda Locks",
                  "Date": "2020-05-17",
                  "Timestamp": "2020-05-17T21:21:17.5346273+00:00",
                  "index": 51
                },
                {
                  "id": "d3e58ea6-6ff0-4c1b-96c8-3fb0943b4525",
                  "Amount": 629.77,
                  "TransactionType": "withdrawal",
                  "Currency": "HNL",
                  "Username": "Kiarra.Doyle95",
                  "Country": "Ghana",
                  "Address": "8818 Adolfo Courts",
                  "Date": "2020-05-17",
                  "Timestamp": "2020-05-17T21:21:17.5346628+00:00",
                  "index": 52
                },
                {
                  "id": "b429ee73-d676-4add-be16-a9bd5b539688",
                  "Amount": 207.85,
                  "TransactionType": "invoice",
                  "Currency": "AED",
                  "Username": "Camilla_Kshlerin",
                  "Country": "Singapore",
                  "Address": "154 Idell Forks",
                  "Date": "2020-05-17",
                  "Timestamp": "2020-05-17T21:21:17.5346792+00:00",
                  "index": 53
                },
                {
                  "id": "6d3ca2af-1aa8-4de2-b067-633d498eb035",
                  "Amount": 520.94,
                  "TransactionType": "withdrawal",
                  "Currency": "XAF",
                  "Username": "Jake_Kris66",
                  "Country": "Iceland",
                  "Address": "2552 Torphy Trail",
                  "Date": "2020-05-17",
                  "Timestamp": "2020-05-17T21:21:17.5347145+00:00",
                  "index": 54
                },
                {
                  "id": "3798cc12-b473-4451-8f05-16f1ffe1780e",
                  "Amount": 173.24,
                  "TransactionType": "deposit",
                  "Currency": "NZD",
                  "Username": "Vergie_Mills",
                  "Country": "Liechtenstein",
                  "Address": "976 Cassie Track",
                  "Date": "2020-05-17",
                  "Timestamp": "2020-05-17T21:21:17.5347301+00:00",
                  "index": 55
                },
                {
                  "id": "3d09b496-ef6d-4be0-9240-e80931971a19",
                  "Amount": 739.16,
                  "TransactionType": "invoice",
                  "Currency": "SCR",
                  "Username": "Albina_Heaney92",
                  "Country": "Maldives",
                  "Address": "311 Rosenbaum Route",
                  "Date": "2020-05-17",
                  "Timestamp": "2020-05-17T21:21:17.5347477+00:00",
                  "index": 56
                },
                {
                  "id": "e71bf10e-ca25-42d1-b69c-67d81665c34e",
                  "Amount": 840,
                  "TransactionType": "withdrawal",
                  "Currency": "XPF",
                  "Username": "Felipe.Mills30",
                  "Country": "Libyan Arab Jamahiriya",
                  "Address": "033 Harold Coves",
                  "Date": "2020-05-17",
                  "Timestamp": "2020-05-17T21:21:17.5347814+00:00",
                  "index": 57
                },
                {
                  "id": "ced70a22-fada-4a5a-8911-49c8bce78433",
                  "Amount": 380.2,
                  "TransactionType": "withdrawal",
                  "Currency": "USD",
                  "Username": "Aurelio36",
                  "Country": "South Georgia and the South Sandwich Islands",
                  "Address": "8559 Rubye Heights",
                  "Date": "2020-05-17",
                  "Timestamp": "2020-05-17T21:21:17.5347991+00:00",
                  "index": 58
                },
                {
                  "id": "0f1d6bdf-67ae-41dc-acd1-66b429b4ee48",
                  "Amount": 243.51,
                  "TransactionType": "withdrawal",
                  "Currency": "TWD",
                  "Username": "Wallace.Hauck",
                  "Country": "Monaco",
                  "Address": "10255 Bernice Locks",
                  "Date": "2020-05-17",
                  "Timestamp": "2020-05-17T21:21:17.5348354+00:00",
                  "index": 59
                },
                {
                  "id": "2e008405-09b2-45bb-8476-3e0562b95d04",
                  "Amount": 839.32,
                  "TransactionType": "withdrawal",
                  "Currency": "TJS",
                  "Username": "Alex.Mohr67",
                  "Country": "Cyprus",
                  "Address": "17046 McCullough Flat",
                  "Date": "2020-05-17",
                  "Timestamp": "2020-05-17T21:21:17.534851+00:00",
                  "index": 60
                },
                {
                  "id": "722b5009-d241-435d-9e5c-019515e5486d",
                  "Amount": 313.15,
                  "TransactionType": "deposit",
                  "Currency": "UZS",
                  "Username": "Sophie.West",
                  "Country": "Somalia",
                  "Address": "6065 Weissnat Way",
                  "Date": "2020-05-17",
                  "Timestamp": "2020-05-17T21:21:17.5348849+00:00",
                  "index": 61
                },
                {
                  "id": "b50d67c0-ef0f-4e3e-8e6d-4c1181382de0",
                  "Amount": 947.68,
                  "TransactionType": "invoice",
                  "Currency": "USD",
                  "Username": "Antonia3",
                  "Country": "Mayotte",
                  "Address": "627 Margarett Dale",
                  "Date": "2020-05-17",
                  "Timestamp": "2020-05-17T21:21:17.5349015+00:00",
                  "index": 62
                },
                {
                  "id": "f0fa4fa5-b304-4188-826f-83178cf64260",
                  "Amount": 381.46,
                  "TransactionType": "withdrawal",
                  "Currency": "VUV",
                  "Username": "Kyra_Schiller",
                  "Country": "Ecuador",
                  "Address": "0271 Verla Lake",
                  "Date": "2020-05-17",
                  "Timestamp": "2020-05-17T21:21:17.534919+00:00",
                  "index": 63
                },
                {
                  "id": "9358a7c1-6ad4-4d66-94c8-a364fd6b6c87",
                  "Amount": 433.81,
                  "TransactionType": "withdrawal",
                  "Currency": "IQD",
                  "Username": "Dillan_Pacocha",
                  "Country": "Slovenia",
                  "Address": "283 Zemlak Curve",
                  "Date": "2020-05-17",
                  "Timestamp": "2020-05-17T21:21:17.5349364+00:00",
                  "index": 64
                },
                {
                  "id": "569c7ab2-95aa-4fc5-8a1b-a9b06365df3c",
                  "Amount": 347.92,
                  "TransactionType": "invoice",
                  "Currency": "MGA",
                  "Username": "Mellie_Waters46",
                  "Country": "Pitcairn Islands",
                  "Address": "62404 Demarco Isle",
                  "Date": "2020-05-17",
                  "Timestamp": "2020-05-17T21:21:17.5349703+00:00",
                  "index": 65
                },
                {
                  "id": "397313d5-713c-4d44-932b-caf338d3ee4c",
                  "Amount": 894.02,
                  "TransactionType": "withdrawal",
                  "Currency": "HKD",
                  "Username": "Dimitri.Gulgowski",
                  "Country": "Palestinian Territory",
                  "Address": "43240 Koss Unions",
                  "Date": "2020-05-17",
                  "Timestamp": "2020-05-17T21:21:17.5350239+00:00",
                  "index": 66
                },
                {
                  "id": "25a13765-ad56-4ebe-a599-79c80630d7a6",
                  "Amount": 723.56,
                  "TransactionType": "deposit",
                  "Currency": "UAH",
                  "Username": "Garth64",
                  "Country": "Algeria",
                  "Address": "10152 Destinee Neck",
                  "Date": "2020-05-17",
                  "Timestamp": "2020-05-17T21:21:17.5350849+00:00",
                  "index": 67
                },
                {
                  "id": "5dd70d13-4fa8-44e0-a276-d334a4c995b8",
                  "Amount": 881.37,
                  "TransactionType": "withdrawal",
                  "Currency": "HRK",
                  "Username": "Luigi0",
                  "Country": "Togo",
                  "Address": "239 Erica Spurs",
                  "Date": "2020-05-17",
                  "Timestamp": "2020-05-17T21:21:17.535103+00:00",
                  "index": 68
                },
                {
                  "id": "22e8612a-c77f-4e27-902d-d8a0818895b3",
                  "Amount": 665.6,
                  "TransactionType": "deposit",
                  "Currency": "PGK",
                  "Username": "Marcelle54",
                  "Country": "Martinique",
                  "Address": "296 Bartell Crest",
                  "Date": "2020-05-17",
                  "Timestamp": "2020-05-17T21:21:17.5351208+00:00",
                  "index": 69
                },
                {
                  "id": "79855da9-ab58-4d15-9ac5-9f2e566c8878",
                  "Amount": 621.61,
                  "TransactionType": "withdrawal",
                  "Currency": "ZWL",
                  "Username": "Joshuah_Steuber",
                  "Country": "Ukraine",
                  "Address": "73871 Kihn Walks",
                  "Date": "2020-05-17",
                  "Timestamp": "2020-05-17T21:21:29.1566045+00:00",
                  "index": 70
                },
                {
                  "id": "f035b4e5-3970-4cbb-9de8-dc2215dcc969",
                  "Amount": 122.79,
                  "TransactionType": "deposit",
                  "Currency": "DOP",
                  "Username": "Maudie3",
                  "Country": "French Polynesia",
                  "Address": "281 Tremblay Manor",
                  "Date": "2020-05-17",
                  "Timestamp": "2020-05-17T21:21:29.1566349+00:00",
                  "index": 71
                },
                {
                  "id": "fcccff30-5701-42bc-b67a-6753e6817db5",
                  "Amount": 514.68,
                  "TransactionType": "invoice",
                  "Currency": "XBD",
                  "Username": "Billie71",
                  "Country": "China",
                  "Address": "811 Carmen Key",
                  "Date": "2020-05-17",
                  "Timestamp": "2020-05-17T21:21:29.1566557+00:00",
                  "index": 72
                },
                {
                  "id": "70d8a2b6-b2aa-4b46-9b6a-0caf4084333f",
                  "Amount": 949,
                  "TransactionType": "invoice",
                  "Currency": "ILS",
                  "Username": "Vickie_Rau78",
                  "Country": "Lebanon",
                  "Address": "72682 Hammes Trail",
                  "Date": "2020-05-17",
                  "Timestamp": "2020-05-17T21:21:29.156675+00:00",
                  "index": 73
                },
                {
                  "id": "8f5fe705-3ccd-4095-be21-8396f5da2ad1",
                  "Amount": 607.35,
                  "TransactionType": "invoice",
                  "Currency": "NOK",
                  "Username": "Schuyler3",
                  "Country": "Dominica",
                  "Address": "549 Ullrich Islands",
                  "Date": "2020-05-17",
                  "Timestamp": "2020-05-17T21:21:29.1566942+00:00",
                  "index": 74
                },
                {
                  "id": "68e96268-5aa5-41d5-857f-ece8a1f165cf",
                  "Amount": 719.53,
                  "TransactionType": "invoice",
                  "Currency": "UZS",
                  "Username": "Gerda.McKenzie62",
                  "Country": "Saint Barthelemy",
                  "Address": "955 Mayert Common",
                  "Date": "2020-05-17",
                  "Timestamp": "2020-05-17T21:21:29.1567122+00:00",
                  "index": 75
                },
                {
                  "id": "0de0b665-a619-46aa-ad61-55c3ff50a8ed",
                  "Amount": 367.98,
                  "TransactionType": "invoice",
                  "Currency": "LVL",
                  "Username": "Maddison_Quitzon13",
                  "Country": "Sri Lanka",
                  "Address": "33792 Oberbrunner View",
                  "Date": "2020-05-17",
                  "Timestamp": "2020-05-17T21:21:29.1567511+00:00",
                  "index": 76
                },
                {
                  "id": "ee9d4779-eb84-4e27-ba71-1afed52c3ed5",
                  "Amount": 591.57,
                  "TransactionType": "invoice",
                  "Currency": "KZT",
                  "Username": "Cicero_Purdy27",
                  "Country": "Algeria",
                  "Address": "06709 Barrows Port",
                  "Date": "2020-05-17",
                  "Timestamp": "2020-05-17T21:21:29.1567685+00:00",
                  "index": 77
                },
                {
                  "id": "bb20371e-1413-4f99-81a0-f139573f5e40",
                  "Amount": 873.7,
                  "TransactionType": "withdrawal",
                  "Currency": "JOD",
                  "Username": "Nico50",
                  "Country": "Anguilla",
                  "Address": "353 Devon Center",
                  "Date": "2020-05-17",
                  "Timestamp": "2020-05-17T21:21:29.1567866+00:00",
                  "index": 78
                },
                {
                  "id": "27f8e8cd-eec7-4546-8aba-23dcbac680d6",
                  "Amount": 200.75,
                  "TransactionType": "invoice",
                  "Currency": "NOK",
                  "Username": "Paige.Romaguera95",
                  "Country": "Argentina",
                  "Address": "353 Adolphus Passage",
                  "Date": "2020-05-17",
                  "Timestamp": "2020-05-17T21:21:29.156805+00:00",
                  "index": 79
                },
                {
                  "id": "d2e8c86b-522e-4d9a-8fd8-9ec72d33647e",
                  "Amount": 836.77,
                  "TransactionType": "deposit",
                  "Currency": "TOP",
                  "Username": "Coleman_Block19",
                  "Country": "Tajikistan",
                  "Address": "1438 Sipes Crossroad",
                  "Date": "2020-05-17",
                  "Timestamp": "2020-05-17T21:21:29.1568217+00:00",
                  "index": 80
                },
                {
                  "id": "ff9fd779-a47d-4d53-bf4d-4db6d4ea8238",
                  "Amount": 707.46,
                  "TransactionType": "deposit",
                  "Currency": "ERN",
                  "Username": "Cielo.Vandervort71",
                  "Country": "Albania",
                  "Address": "6923 Thalia Plain",
                  "Date": "2020-05-17",
                  "Timestamp": "2020-05-17T21:21:29.1568408+00:00",
                  "index": 81
                },
                {
                  "id": "3b460805-da00-41d3-92f5-67f867cff69c",
                  "Amount": 775.82,
                  "TransactionType": "deposit",
                  "Currency": "BSD",
                  "Username": "Bartholome_Mueller",
                  "Country": "Reunion",
                  "Address": "67764 Jed Stravenue",
                  "Date": "2020-05-17",
                  "Timestamp": "2020-05-17T21:21:29.1568605+00:00",
                  "index": 82
                },
                {
                  "id": "84dbbe3e-d66c-4ad1-b58c-7802e7b066ff",
                  "Amount": 680.47,
                  "TransactionType": "deposit",
                  "Currency": "SOS",
                  "Username": "Leland.Lemke",
                  "Country": "Christmas Island",
                  "Address": "63102 Larson Locks",
                  "Date": "2020-05-17",
                  "Timestamp": "2020-05-17T21:21:29.1568965+00:00",
                  "index": 83
                },
                {
                  "id": "0c6bde5d-826c-48fb-bb13-22511fa0f4ba",
                  "Amount": 991.59,
                  "TransactionType": "invoice",
                  "Currency": "XBC",
                  "Username": "Jakayla_Hayes54",
                  "Country": "Swaziland",
                  "Address": "78136 Kavon Creek",
                  "Date": "2020-05-17",
                  "Timestamp": "2020-05-17T21:21:29.1569337+00:00",
                  "index": 84
                },
                {
                  "id": "fdb717a0-9127-4457-875b-96dc00d8023e",
                  "Amount": 728.29,
                  "TransactionType": "invoice",
                  "Currency": "USD",
                  "Username": "Elwyn.Miller77",
                  "Country": "Israel",
                  "Address": "72033 Kassulke Ports",
                  "Date": "2020-05-17",
                  "Timestamp": "2020-05-17T21:21:29.1569519+00:00",
                  "index": 85
                },
                {
                  "id": "c3fa86cf-2684-45f0-bd7a-e44ed57cc770",
                  "Amount": 233.68,
                  "TransactionType": "deposit",
                  "Currency": "XPT",
                  "Username": "Rickey70",
                  "Country": "Mayotte",
                  "Address": "24270 Heathcote Crest",
                  "Date": "2020-05-17",
                  "Timestamp": "2020-05-17T21:21:29.1569685+00:00",
                  "index": 86
                },
                {
                  "id": "c10c5945-d904-4dea-9faa-671b358afcfb",
                  "Amount": 685.95,
                  "TransactionType": "withdrawal",
                  "Currency": "MVR",
                  "Username": "Allison.Dooley",
                  "Country": "Netherlands",
                  "Address": "748 Rutherford Valleys",
                  "Date": "2020-05-17",
                  "Timestamp": "2020-05-17T21:21:29.156987+00:00",
                  "index": 87
                },
                {
                  "id": "2b7fc803-1db7-4e54-91ec-dc36d3b03c1d",
                  "Amount": 116.55,
                  "TransactionType": "withdrawal",
                  "Currency": "THB",
                  "Username": "Vivian89",
                  "Country": "Grenada",
                  "Address": "7030 Rau Corner",
                  "Date": "2020-05-17",
                  "Timestamp": "2020-05-17T21:21:29.1570045+00:00",
                  "index": 88
                },
                {
                  "id": "b4188a9f-d2b4-4642-a06c-f1aba35189a6",
                  "Amount": 186.27,
                  "TransactionType": "withdrawal",
                  "Currency": "ANG",
                  "Username": "Oleta.Dicki34",
                  "Country": "Faroe Islands",
                  "Address": "983 Marques Island",
                  "Date": "2020-05-17",
                  "Timestamp": "2020-05-17T21:21:29.1570208+00:00",
                  "index": 89
                },
                {
                  "id": "e02e4ab5-2f30-44a5-b992-cad11f933e4d",
                  "Amount": 97.21,
                  "TransactionType": "invoice",
                  "Currency": "MGA",
                  "Username": "Norris.Weissnat",
                  "Country": "Costa Rica",
                  "Address": "571 Runte Mountains",
                  "Date": "2020-05-17",
                  "Timestamp": "2020-05-17T21:21:29.1570392+00:00",
                  "index": 90
                },
                {
                  "id": "8e725a81-7367-4671-9214-fcc8485d2466",
                  "Amount": 643.01,
                  "TransactionType": "deposit",
                  "Currency": "VEF",
                  "Username": "Ebba_Frami56",
                  "Country": "Western Sahara",
                  "Address": "0896 Ritchie Centers",
                  "Date": "2020-05-17",
                  "Timestamp": "2020-05-17T21:21:29.1570739+00:00",
                  "index": 91
                },
                {
                  "id": "0e00c187-669e-4398-bdbb-7155aa2308c1",
                  "Amount": 539.76,
                  "TransactionType": "withdrawal",
                  "Currency": "FJD",
                  "Username": "Celestino14",
                  "Country": "Burundi",
                  "Address": "9979 Bednar Parkways",
                  "Date": "2020-05-17",
                  "Timestamp": "2020-05-17T21:21:29.1570928+00:00",
                  "index": 92
                },
                {
                  "id": "568243f4-7457-4b07-86b5-c1daf8f5bcf2",
                  "Amount": 778.76,
                  "TransactionType": "withdrawal",
                  "Currency": "KWD",
                  "Username": "Jerald.Klocko94",
                  "Country": "Cambodia",
                  "Address": "41524 Kristian Unions",
                  "Date": "2020-05-17",
                  "Timestamp": "2020-05-17T21:21:29.1571114+00:00",
                  "index": 93
                },
                {
                  "id": "2b189d09-29d5-46d4-b45d-63fac74fc5cb",
                  "Amount": 523.95,
                  "TransactionType": "withdrawal",
                  "Currency": "LBP",
                  "Username": "Moises22",
                  "Country": "Cote d'Ivoire",
                  "Address": "913 McCullough Prairie",
                  "Date": "2020-05-17",
                  "Timestamp": "2020-05-17T21:21:29.1571285+00:00",
                  "index": 94
                },
                {
                  "id": "f2913249-c455-475d-b09f-5bae8ef502df",
                  "Amount": 483.19,
                  "TransactionType": "withdrawal",
                  "Currency": "MYR",
                  "Username": "Elliot63",
                  "Country": "South Georgia and the South Sandwich Islands",
                  "Address": "4686 Garry Circle",
                  "Date": "2020-05-17",
                  "Timestamp": "2020-05-17T21:21:29.1571638+00:00",
                  "index": 95
                },
                {
                  "id": "015b9d69-cd45-43d9-a00e-60bf59891589",
                  "Amount": 378.71,
                  "TransactionType": "deposit",
                  "Currency": "XBB",
                  "Username": "Nettie39",
                  "Country": "Argentina",
                  "Address": "68276 Crooks Center",
                  "Date": "2020-05-17",
                  "Timestamp": "2020-05-17T21:21:29.1571817+00:00",
                  "index": 96
                },
                {
                  "id": "6671f8de-baba-4dea-bcc4-7af237bc3e22",
                  "Amount": 998.74,
                  "TransactionType": "deposit",
                  "Currency": "DOP",
                  "Username": "Nadia_Stamm21",
                  "Country": "Wallis and Futuna",
                  "Address": "616 Mariam Tunnel",
                  "Date": "2020-05-17",
                  "Timestamp": "2020-05-17T21:21:29.1571978+00:00",
                  "index": 97
                },
                {
                  "id": "4938904f-5aa8-4b7c-a79b-86291dd71327",
                  "Amount": 738.03,
                  "TransactionType": "deposit",
                  "Currency": "USD",
                  "Username": "Keven19",
                  "Country": "Timor-Leste",
                  "Address": "0805 Bernhard Expressway",
                  "Date": "2020-05-17",
                  "Timestamp": "2020-05-17T21:21:29.1572696+00:00",
                  "index": 98
                },
                {
                  "id": "a06199ac-ec31-4373-913e-c9c0a2b0060b",
                  "Amount": 25.74,
                  "TransactionType": "withdrawal",
                  "Currency": "VUV",
                  "Username": "Trace65",
                  "Country": "Virgin Islands, British",
                  "Address": "355 Lesch Shore",
                  "Date": "2020-05-17",
                  "Timestamp": "2020-05-17T21:21:29.1572874+00:00",
                  "index": 99
                }
              ],
              "schema": {
                "fields": [
                  {
                    "name": "index",
                    "type": "integer"
                  },
                  {
                    "name": "id",
                    "type": "string"
                  },
                  {
                    "name": "Amount",
                    "type": "number"
                  },
                  {
                    "name": "TransactionType",
                    "type": "string"
                  },
                  {
                    "name": "Currency",
                    "type": "string"
                  },
                  {
                    "name": "Username",
                    "type": "string"
                  },
                  {
                    "name": "Country",
                    "type": "string"
                  },
                  {
                    "name": "Address",
                    "type": "string"
                  },
                  {
                    "name": "Date",
                    "type": "string"
                  },
                  {
                    "name": "Timestamp",
                    "type": "string"
                  }
                ],
                "primaryKey": [
                  "index"
                ]
              }
            }
          },
          "metadata": {
            "application/vnd.dataresource+json": {
              "size": 6,
              "_root": {
                "ownerID": {},
                "entries": [
                  [
                    "size",
                    6
                  ],
                  [
                    "_root",
                    {
                      "ownerID": {},
                      "entries": [
                        [
                          "size",
                          6
                        ],
                        [
                          "_root",
                          {
                            "ownerID": {},
                            "entries": [
                              [
                                "size",
                                1
                              ],
                              [
                                "_root",
                                {
                                  "ownerID": {},
                                  "entries": [
                                    [
                                      "dx",
                                      {
                                        "summaryType": "violin",
                                        "marginalGraphics": "none",
                                        "view": "grid",
                                        "areaType": "hexbin",
                                        "selectedDimensions": [
                                          "Date"
                                        ],
                                        "selectedMetrics": [],
                                        "networkType": "force",
                                        "pieceType": "bar",
                                        "lineType": "line",
                                        "hierarchyType": "dendrogram",
                                        "colors": [
                                          "#DA752E",
                                          "#E5C209",
                                          "#1441A0",
                                          "#B86117",
                                          "#4D430C",
                                          "#1DB390",
                                          "#B3331D",
                                          "#088EB2",
                                          "#417505",
                                          "#E479A8",
                                          "#F9F39E",
                                          "#5782DC",
                                          "#EBA97B",
                                          "#A2AB60",
                                          "#B291CF",
                                          "#8DD2C2",
                                          "#E6A19F",
                                          "#3DC7E0",
                                          "#98CE5B"
                                        ],
                                        "trendLine": "none",
                                        "barGrouping": "Clustered",
                                        "chart": {
                                          "metric1": "Amount",
                                          "metric2": "none",
                                          "timeseriesSort": "array-order",
                                          "metric3": "none",
                                          "metric4": "none",
                                          "networkLabel": "none",
                                          "dim1": "Date",
                                          "dim2": "TransactionType",
                                          "dim3": "none"
                                        }
                                      }
                                    ]
                                  ]
                                }
                              ],
                              [
                                "__ownerID",
                                null
                              ],
                              [
                                "__hash",
                                null
                              ],
                              [
                                "__altered",
                                false
                              ],
                              [
                                "dx",
                                {
                                  "summaryType": "violin",
                                  "marginalGraphics": "none",
                                  "view": "bar",
                                  "areaType": "hexbin",
                                  "selectedDimensions": [
                                    "Date"
                                  ],
                                  "selectedMetrics": [],
                                  "networkType": "force",
                                  "pieceType": "bar",
                                  "lineType": "line",
                                  "hierarchyType": "dendrogram",
                                  "colors": [
                                    "#DA752E",
                                    "#E5C209",
                                    "#1441A0",
                                    "#B86117",
                                    "#4D430C",
                                    "#1DB390",
                                    "#B3331D",
                                    "#088EB2",
                                    "#417505",
                                    "#E479A8",
                                    "#F9F39E",
                                    "#5782DC",
                                    "#EBA97B",
                                    "#A2AB60",
                                    "#B291CF",
                                    "#8DD2C2",
                                    "#E6A19F",
                                    "#3DC7E0",
                                    "#98CE5B"
                                  ],
                                  "trendLine": "none",
                                  "barGrouping": "Clustered",
                                  "chart": {
                                    "metric1": "Amount",
                                    "metric2": "none",
                                    "timeseriesSort": "array-order",
                                    "metric3": "none",
                                    "metric4": "none",
                                    "networkLabel": "none",
                                    "dim1": "Date",
                                    "dim2": "TransactionType",
                                    "dim3": "none"
                                  }
                                }
                              ]
                            ]
                          }
                        ],
                        [
                          "__ownerID",
                          null
                        ],
                        [
                          "__hash",
                          null
                        ],
                        [
                          "__altered",
                          false
                        ],
                        [
                          "dx",
                          {
                            "summaryType": "violin",
                            "marginalGraphics": "none",
                            "view": "bar",
                            "areaType": "hexbin",
                            "selectedDimensions": [
                              "Date",
                              "TransactionType"
                            ],
                            "selectedMetrics": [],
                            "networkType": "force",
                            "pieceType": "bar",
                            "lineType": "line",
                            "hierarchyType": "dendrogram",
                            "colors": [
                              "#DA752E",
                              "#E5C209",
                              "#1441A0",
                              "#B86117",
                              "#4D430C",
                              "#1DB390",
                              "#B3331D",
                              "#088EB2",
                              "#417505",
                              "#E479A8",
                              "#F9F39E",
                              "#5782DC",
                              "#EBA97B",
                              "#A2AB60",
                              "#B291CF",
                              "#8DD2C2",
                              "#E6A19F",
                              "#3DC7E0",
                              "#98CE5B"
                            ],
                            "trendLine": "none",
                            "barGrouping": "Clustered",
                            "chart": {
                              "metric1": "Amount",
                              "metric2": "none",
                              "timeseriesSort": "array-order",
                              "metric3": "none",
                              "metric4": "none",
                              "networkLabel": "none",
                              "dim1": "Date",
                              "dim2": "TransactionType",
                              "dim3": "none"
                            }
                          }
                        ]
                      ]
                    }
                  ],
                  [
                    "__ownerID",
                    null
                  ],
                  [
                    "__hash",
                    null
                  ],
                  [
                    "__altered",
                    false
                  ],
                  [
                    "dx",
                    {
                      "summaryType": "violin",
                      "marginalGraphics": "none",
                      "view": "bar",
                      "areaType": "hexbin",
                      "selectedDimensions": [
                        "TransactionType"
                      ],
                      "selectedMetrics": [],
                      "networkType": "force",
                      "pieceType": "bar",
                      "lineType": "line",
                      "hierarchyType": "dendrogram",
                      "colors": [
                        "#DA752E",
                        "#E5C209",
                        "#1441A0",
                        "#B86117",
                        "#4D430C",
                        "#1DB390",
                        "#B3331D",
                        "#088EB2",
                        "#417505",
                        "#E479A8",
                        "#F9F39E",
                        "#5782DC",
                        "#EBA97B",
                        "#A2AB60",
                        "#B291CF",
                        "#8DD2C2",
                        "#E6A19F",
                        "#3DC7E0",
                        "#98CE5B"
                      ],
                      "trendLine": "none",
                      "barGrouping": "Clustered",
                      "chart": {
                        "metric1": "Amount",
                        "metric2": "none",
                        "timeseriesSort": "array-order",
                        "metric3": "none",
                        "metric4": "none",
                        "networkLabel": "none",
                        "dim1": "Date",
                        "dim2": "TransactionType",
                        "dim3": "none"
                      }
                    }
                  ]
                ]
              },
              "__altered": false,
              "dx": {
                "summaryType": "violin",
                "marginalGraphics": "none",
                "view": "bar",
                "areaType": "hexbin",
                "selectedDimensions": [
                  "TransactionType"
                ],
                "selectedMetrics": [],
                "networkType": "force",
                "pieceType": "bar",
                "lineType": "line",
                "hierarchyType": "dendrogram",
                "colors": [
                  "#DA752E",
                  "#E5C209",
                  "#1441A0",
                  "#B86117",
                  "#4D430C",
                  "#1DB390",
                  "#B3331D",
                  "#088EB2",
                  "#417505",
                  "#E479A8",
                  "#F9F39E",
                  "#5782DC",
                  "#EBA97B",
                  "#A2AB60",
                  "#B291CF",
                  "#8DD2C2",
                  "#E6A19F",
                  "#3DC7E0",
                  "#98CE5B"
                ],
                "trendLine": "none",
                "barGrouping": "Clustered",
                "chart": {
                  "metric1": "Amount",
                  "metric2": "none",
                  "timeseriesSort": "array-order",
                  "metric3": "none",
                  "metric4": "none",
                  "networkLabel": "none",
                  "dim1": "TransactionType",
                  "dim2": "TransactionType",
                  "dim3": "none"
                }
              }
            }
          }
        }
      ],
      "execution_count": 32,
      "metadata": {
        "collapsed": true,
        "execution": {
          "iopub.status.busy": "2020-05-20T21:04:28.404Z",
          "iopub.status.idle": "2020-05-20T21:04:29.513Z",
          "shell.execute_reply": "2020-05-20T21:04:29.534Z",
          "iopub.execute_input": "2020-05-20T20:54:28.989Z"
        },
        "jupyter": {
          "outputs_hidden": false,
          "source_hidden": false
        },
        "nteract": {
          "transient": {
            "deleting": false
          }
        },
        "outputExpanded": false,
        "trusted": true
      }
    },
    {
      "cell_type": "markdown",
      "source": [
        "Message: Welcome to build attendees!"
      ],
      "metadata": {
        "nteract": {
          "transient": {
            "deleting": false
          }
        }
      }
    },
    {
      "cell_type": "markdown",
      "source": [],
      "metadata": {
        "nteract": {
          "transient": {
            "deleting": false
          }
        }
      }
    }
  ],
  "metadata": {
    "kernelspec": {
      "displayName": "CSharp",
      "language": "csharp",
      "name": "csharp"
    },
    "language_info": {
      "name": "csharp",
      "version": "7.3",
      "mimetype": "application/json",
      "file_extension": "ipynb",
      "codemirror_mode": "text/x-csharp"
    },
    "nteract": {
      "version": "dataExplorer 1.0"
    }
  },
  "nbformat": 4,
  "nbformat_minor": 4
}