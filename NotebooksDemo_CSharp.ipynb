{
  "cells": [
    {
      "cell_type": "markdown",
      "source": [
        "## Welcome to C# notebooks in Azure Cosmos DB!## "
      ],
      "metadata": {
        "nteract": {
          "transient": {
            "deleting": false
          }
        }
      }
    },
    {
      "cell_type": "markdown",
      "source": [
        "### Use Cosmos .NET SDK to create resources ###"
      ],
      "metadata": {
        "nteract": {
          "transient": {
            "deleting": false
          }
        }
      }
    },
    {
      "cell_type": "code",
      "source": [
        "using System;\n",
        "using Microsoft.Azure.Cosmos;\n",
        "using System.Collections;\n",
        "\n",
        "// Initialize a new instance of CosmosClient using the built-in account endpoint and key parameters\n",
        "CosmosClient cosmosClient = new CosmosClient(Cosmos.Endpoint, Cosmos.Key);\n",
        "\n",
        "// Create a new database and container with 400 RU/s\n",
        "Microsoft.Azure.Cosmos.Database database = await cosmosClient.CreateDatabaseIfNotExistsAsync(\"Demo\");\n",
        "Container container = await database.CreateContainerIfNotExistsAsync(\"PaymentData\", \"/id\", 400);\n",
        "\n",
        "Display.AsMarkdown($\"Created database {database.Id} and container {container.Id}.\");"
      ],
      "outputs": [
        {
          "output_type": "execute_result",
          "execution_count": 21,
          "data": {},
          "metadata": {}
        },
        {
          "output_type": "display_data",
          "data": {
            "text/plain": [
              "<IPython.core.display.Markdown object>"
            ],
            "text/markdown": [
              "Created database Demo and container PaymentData."
            ]
          },
          "metadata": {}
        }
      ],
      "execution_count": 23,
      "metadata": {
        "collapsed": true,
        "execution": {
          "iopub.execute_input": "2020-05-20T05:48:04.675Z",
          "iopub.status.busy": "2020-05-20T05:48:04.596Z",
          "iopub.status.idle": "2020-05-20T05:48:04.720Z",
          "shell.execute_reply": "2020-05-20T05:48:04.732Z"
        },
        "jupyter": {
          "outputs_hidden": false,
          "source_hidden": false
        },
        "nteract": {
          "transient": {
            "deleting": false
          }
        },
        "outputExpanded": false,
        "trusted": true
      }
    },
    {
      "cell_type": "markdown",
      "source": [
        "### Represent C# classes ###"
      ],
      "metadata": {
        "nteract": {
          "transient": {
            "deleting": false
          }
        }
      }
    },
    {
      "cell_type": "code",
      "source": [
        "using System;\n",
        "\n",
        "class PaymentEvent\n",
        "{\n",
        "    public string id { get; set; }\n",
        "\n",
        "    public Decimal Amount { get; set; }\n",
        "\n",
        "    public string TransactionType { get; set; }\n",
        "\n",
        "    public string Currency { get; set; }\n",
        "\n",
        "    public string Username { get; set; }\n",
        "\n",
        "    public string Country { get; set; }\n",
        "\n",
        "    public string Address { get; set; }\n",
        "\n",
        "    public string Date { get; set; }\n",
        "\n",
        "    public DateTime Timestamp { get; set; }\n",
        "\n",
        "}"
      ],
      "outputs": [],
      "execution_count": null,
      "metadata": {
        "collapsed": true,
        "execution": {
          "iopub.status.busy": "2020-05-20T05:35:17.997Z",
          "iopub.status.idle": "2020-05-20T05:35:18.181Z",
          "shell.execute_reply": "2020-05-20T05:35:18.195Z"
        },
        "jupyter": {
          "outputs_hidden": false,
          "source_hidden": false
        },
        "nteract": {
          "transient": {
            "deleting": false
          }
        },
        "outputExpanded": false,
        "trusted": true
      }
    },
    {
      "cell_type": "markdown",
      "source": [
        "### Generate some data ###"
      ],
      "metadata": {
        "nteract": {
          "transient": {
            "deleting": false
          }
        }
      }
    },
    {
      "cell_type": "markdown",
      "source": [
        "#### Use custom NuGet packages ####"
      ],
      "metadata": {
        "nteract": {
          "transient": {
            "deleting": false
          }
        }
      }
    },
    {
      "cell_type": "code",
      "source": [
        "#r \"nuget: Bogus\"\n",
        "#r \"nuget: System.Linq\"\n",
        "#r \"nuget: System.Linq.Expressions\""
      ],
      "outputs": [],
      "execution_count": null,
      "metadata": {
        "collapsed": true,
        "outputExpanded": false,
        "jupyter": {
          "source_hidden": false,
          "outputs_hidden": false
        },
        "nteract": {
          "transient": {
            "deleting": false
          }
        },
        "execution": {
          "iopub.status.busy": "2020-05-20T05:35:18.210Z",
          "iopub.status.idle": "2020-05-20T05:35:19.828Z",
          "shell.execute_reply": "2020-05-20T05:35:19.847Z"
        }
      }
    },
    {
      "cell_type": "code",
      "source": [
        "using System.Linq;\n",
        "using System.Collections.Generic;\n",
        "using System.Linq.Expressions;\n",
        "using System;\n",
        "using Bogus;\n",
        "\n",
        "static List<PaymentEvent> GenerateRandomPaymentEvents(int numberOfDocumentsPerBatch)\n",
        "{\n",
        "    var faker = new Faker();\n",
        "\n",
        "    var paymentEvent = new Faker<PaymentEvent>()\n",
        "        .StrictMode(true)\n",
        "        //Generate event\n",
        "        .RuleFor(o => o.id, f => Guid.NewGuid().ToString())\n",
        "        .RuleFor(o => o.Amount, f => f.Finance.Amount())\n",
        "        .RuleFor(o => o.TransactionType, f => f.Finance.TransactionType())\n",
        "        .RuleFor(o => o.Currency, f => f.Finance.Currency().Code)\n",
        "        .RuleFor(o => o.Username, f => f.Internet.UserName())\n",
        "        .RuleFor(o => o.Country, f => f.Address.Country())\n",
        "        .RuleFor(o => o.Address, f => f.Address.StreetAddress())\n",
        "        .RuleFor(o => o.Timestamp, f => DateTime.Now) // just today's date\n",
        "        .RuleFor(o => o.Date, (f, m) => $\"{m.Timestamp.ToString(\"yyyy-MM-dd\")}\");\n",
        "\n",
        "    var events = paymentEvent.Generate(numberOfDocumentsPerBatch);\n",
        "    \n",
        "    return events;\n",
        "    \n",
        "}"
      ],
      "outputs": [],
      "execution_count": null,
      "metadata": {
        "collapsed": true,
        "outputExpanded": false,
        "jupyter": {
          "source_hidden": false,
          "outputs_hidden": false
        },
        "nteract": {
          "transient": {
            "deleting": false
          }
        },
        "execution": {
          "iopub.status.busy": "2020-05-20T05:35:19.873Z",
          "iopub.status.idle": "2020-05-20T05:35:20.398Z",
          "shell.execute_reply": "2020-05-20T05:35:20.727Z"
        }
      }
    },
    {
      "cell_type": "markdown",
      "source": [
        "#### Write data to PaymentData container ####"
      ],
      "metadata": {
        "nteract": {
          "transient": {
            "deleting": false
          }
        }
      }
    },
    {
      "cell_type": "code",
      "source": [
        "var paymentEvents = GenerateRandomPaymentEvents(100);\n",
        "\n",
        "foreach (PaymentEvent paymentEvent in paymentEvents)\n",
        "{\n",
        "    var itemResponse = await container.CreateItemAsync<PaymentEvent>(paymentEvent);\n",
        "}\n",
        "\n",
        "Display.AsMarkdown(\"Created 100 items in PaymentData container.\");"
      ],
      "outputs": [
        {
          "output_type": "execute_result",
          "execution_count": 22,
          "data": {},
          "metadata": {}
        },
        {
          "output_type": "display_data",
          "data": {
            "text/plain": [
              "<IPython.core.display.Markdown object>"
            ],
            "text/markdown": [
              "Created 100 items in PaymentData container."
            ]
          },
          "metadata": {}
        }
      ],
      "execution_count": 24,
      "metadata": {
        "collapsed": true,
        "execution": {
          "iopub.execute_input": "2020-05-20T05:49:05.922Z",
          "iopub.status.busy": "2020-05-20T05:49:05.854Z",
          "iopub.status.idle": "2020-05-20T05:49:05.956Z",
          "shell.execute_reply": "2020-05-20T05:49:05.965Z"
        },
        "jupyter": {
          "outputs_hidden": false,
          "source_hidden": false
        },
        "nteract": {
          "transient": {
            "deleting": false
          }
        },
        "outputExpanded": false,
        "trusted": true
      }
    },
    {
      "cell_type": "markdown",
      "source": [
        "### Query your data ###"
      ],
      "metadata": {
        "nteract": {
          "transient": {
            "deleting": false
          }
        }
      }
    },
    {
      "cell_type": "code",
      "source": [
        "using System.Linq;\n",
        "\n",
        "QueryDefinition queryDefinition = new QueryDefinition(\"SELECT * FROM c WHERE c.TransactionType IN ('deposit', 'invoice', 'withdrawal')\");\n",
        "\n",
        "FeedIterator<PaymentEvent> queryResultSetIterator = container.GetItemQueryIterator<PaymentEvent>(queryDefinition);\n",
        "\n",
        "List<PaymentEvent> paymentEvents = new List<PaymentEvent>();\n",
        "\n",
        "while (queryResultSetIterator.HasMoreResults)\n",
        "{\n",
        "    FeedResponse<PaymentEvent> currentResultSet = await queryResultSetIterator.ReadNextAsync();\n",
        "    foreach (PaymentEvent paymentEvent in currentResultSet)\n",
        "    {\n",
        "        paymentEvents.Add(paymentEvent);\n",
        "    }\n",
        "}\n",
        "\n",
        "paymentEvents.Take(20)"
      ],
      "outputs": [
        {
          "output_type": "execute_result",
          "execution_count": 23,
          "data": {
            "text/plain": [
              "System.Linq.Enumerable+ListPartition`1[Submission#21+PaymentEvent]"
            ],
            "application/vnd.dataresource+json": {
              "data": [
                {
                  "id": "c285305b-0b57-446e-b7f1-f2bf458fd5c3",
                  "Amount": 444.21,
                  "TransactionType": "withdrawal",
                  "Currency": "LAK",
                  "Username": "Calista_Kassulke52",
                  "Country": "Kyrgyz Republic",
                  "Address": "0774 Cullen Key",
                  "Date": "2020-05-17",
                  "Timestamp": "2020-05-17T21:21:17.5317275+00:00",
                  "index": 0
                },
                {
                  "id": "a5268851-92b8-4957-88ed-83ddcf25daee",
                  "Amount": 950.93,
                  "TransactionType": "withdrawal",
                  "Currency": "USD",
                  "Username": "Elton_Rolfson23",
                  "Country": "United States of America",
                  "Address": "4786 Melody Mountain",
                  "Date": "2020-05-17",
                  "Timestamp": "2020-05-17T21:21:17.5318241+00:00",
                  "index": 1
                },
                {
                  "id": "a61ecd1d-122d-46e8-9fab-3ad59f482156",
                  "Amount": 491.95,
                  "TransactionType": "withdrawal",
                  "Currency": "CZK",
                  "Username": "Caitlyn.Muller33",
                  "Country": "Hong Kong",
                  "Address": "25835 Alanna Land",
                  "Date": "2020-05-17",
                  "Timestamp": "2020-05-17T21:21:17.5318517+00:00",
                  "index": 2
                },
                {
                  "id": "4a21de1f-0a0b-4550-b3f4-ee8f842554a7",
                  "Amount": 267.16,
                  "TransactionType": "invoice",
                  "Currency": "RON",
                  "Username": "Lamont.Walker",
                  "Country": "Uzbekistan",
                  "Address": "171 Alysa Brooks",
                  "Date": "2020-05-17",
                  "Timestamp": "2020-05-17T21:21:17.5318894+00:00",
                  "index": 3
                },
                {
                  "id": "c3bb676a-2ee8-4839-b8b7-df5d68cc0fa9",
                  "Amount": 248.76,
                  "TransactionType": "deposit",
                  "Currency": "PLN",
                  "Username": "Viva15",
                  "Country": "India",
                  "Address": "12529 Adolfo Fall",
                  "Date": "2020-05-17",
                  "Timestamp": "2020-05-17T21:21:17.5319268+00:00",
                  "index": 4
                },
                {
                  "id": "d3fa7d02-8532-4964-be31-fe49731fd5c6",
                  "Amount": 296.33,
                  "TransactionType": "withdrawal",
                  "Currency": "LAK",
                  "Username": "Devante_Lesch",
                  "Country": "Saint Martin",
                  "Address": "58296 Bernhard Cape",
                  "Date": "2020-05-17",
                  "Timestamp": "2020-05-17T21:21:17.5319434+00:00",
                  "index": 5
                },
                {
                  "id": "8fc5b84d-a0d0-4234-84dc-da14d0d774f0",
                  "Amount": 465.28,
                  "TransactionType": "deposit",
                  "Currency": "KZT",
                  "Username": "Ulises_Reichert",
                  "Country": "Benin",
                  "Address": "657 Schowalter Crest",
                  "Date": "2020-05-17",
                  "Timestamp": "2020-05-17T21:21:17.5319615+00:00",
                  "index": 6
                },
                {
                  "id": "121b4aee-a74d-49b9-8c77-5134b61c76b8",
                  "Amount": 342.87,
                  "TransactionType": "invoice",
                  "Currency": "USD",
                  "Username": "Yasmeen9",
                  "Country": "Kazakhstan",
                  "Address": "61925 Dooley Creek",
                  "Date": "2020-05-17",
                  "Timestamp": "2020-05-17T21:21:17.5319789+00:00",
                  "index": 7
                },
                {
                  "id": "f224361a-d691-455c-91ba-7aade2853921",
                  "Amount": 56.13,
                  "TransactionType": "deposit",
                  "Currency": "LKR",
                  "Username": "Favian_OConner44",
                  "Country": "Libyan Arab Jamahiriya",
                  "Address": "432 Veum Common",
                  "Date": "2020-05-17",
                  "Timestamp": "2020-05-17T21:21:17.5335023+00:00",
                  "index": 8
                },
                {
                  "id": "d4fa7a26-2d4d-4aea-8b3d-5757926464ec",
                  "Amount": 79.06,
                  "TransactionType": "invoice",
                  "Currency": "XPT",
                  "Username": "Creola0",
                  "Country": "El Salvador",
                  "Address": "595 Wisoky Gardens",
                  "Date": "2020-05-17",
                  "Timestamp": "2020-05-17T21:21:17.5335327+00:00",
                  "index": 9
                },
                {
                  "id": "f287d51a-8522-46ef-8f6a-1be16a8171d0",
                  "Amount": 797.81,
                  "TransactionType": "withdrawal",
                  "Currency": "AZN",
                  "Username": "Carissa_Gleason",
                  "Country": "Turkmenistan",
                  "Address": "42680 Zoila Way",
                  "Date": "2020-05-17",
                  "Timestamp": "2020-05-17T21:21:17.5335733+00:00",
                  "index": 10
                },
                {
                  "id": "ce0abf50-7141-4182-9551-9195c523acba",
                  "Amount": 352.71,
                  "TransactionType": "withdrawal",
                  "Currency": "XTS",
                  "Username": "Ardella.Effertz48",
                  "Country": "Chad",
                  "Address": "38175 Cody Lakes",
                  "Date": "2020-05-17",
                  "Timestamp": "2020-05-17T21:21:17.5335911+00:00",
                  "index": 11
                },
                {
                  "id": "8494a28d-3bee-4f88-b477-003513b51c81",
                  "Amount": 812.63,
                  "TransactionType": "withdrawal",
                  "Currency": "CZK",
                  "Username": "Rosa_Morar11",
                  "Country": "Kenya",
                  "Address": "0807 Elvie Street",
                  "Date": "2020-05-17",
                  "Timestamp": "2020-05-17T21:21:17.5336087+00:00",
                  "index": 12
                },
                {
                  "id": "76ec8a73-2696-4c68-9b3a-55b79ec5d90a",
                  "Amount": 721.82,
                  "TransactionType": "withdrawal",
                  "Currency": "BWP",
                  "Username": "Odell17",
                  "Country": "Peru",
                  "Address": "340 Nitzsche Dam",
                  "Date": "2020-05-17",
                  "Timestamp": "2020-05-17T21:21:17.5336258+00:00",
                  "index": 13
                },
                {
                  "id": "b879e22d-326e-4087-969d-890062385aed",
                  "Amount": 689.56,
                  "TransactionType": "withdrawal",
                  "Currency": "JOD",
                  "Username": "Hilbert83",
                  "Country": "Saint Vincent and the Grenadines",
                  "Address": "03089 Moore Ridges",
                  "Date": "2020-05-17",
                  "Timestamp": "2020-05-17T21:21:17.5336782+00:00",
                  "index": 14
                },
                {
                  "id": "9dfb4e35-d4f4-42f5-b764-c275b5ef38e1",
                  "Amount": 707.23,
                  "TransactionType": "invoice",
                  "Currency": "CRC",
                  "Username": "Camila_Will",
                  "Country": "Gabon",
                  "Address": "66988 Harvey Crescent",
                  "Date": "2020-05-17",
                  "Timestamp": "2020-05-17T21:21:17.5336942+00:00",
                  "index": 15
                },
                {
                  "id": "e686f718-fafa-4d05-9732-132da5c16f2f",
                  "Amount": 691.9,
                  "TransactionType": "deposit",
                  "Currency": "MYR",
                  "Username": "Arne.DuBuque65",
                  "Country": "British Indian Ocean Territory (Chagos Archipelago)",
                  "Address": "41580 Izaiah Fork",
                  "Date": "2020-05-17",
                  "Timestamp": "2020-05-17T21:21:17.5337121+00:00",
                  "index": 16
                },
                {
                  "id": "31b5aa4c-5790-47ae-9ec9-602988c3a95c",
                  "Amount": 539.27,
                  "TransactionType": "withdrawal",
                  "Currency": "XTS",
                  "Username": "Pearl_Nolan8",
                  "Country": "El Salvador",
                  "Address": "53836 Sauer Estate",
                  "Date": "2020-05-17",
                  "Timestamp": "2020-05-17T21:21:17.5337295+00:00",
                  "index": 17
                },
                {
                  "id": "f023776e-d5fb-4067-8d79-c8bfdedd176b",
                  "Amount": 765.28,
                  "TransactionType": "withdrawal",
                  "Currency": "SOS",
                  "Username": "Elliott.Hagenes",
                  "Country": "Tunisia",
                  "Address": "8833 Aufderhar Estate",
                  "Date": "2020-05-17",
                  "Timestamp": "2020-05-17T21:21:17.5337476+00:00",
                  "index": 18
                },
                {
                  "id": "7a61c50d-ec56-4733-bd21-625d29958223",
                  "Amount": 732.6,
                  "TransactionType": "deposit",
                  "Currency": "XDR",
                  "Username": "Berta.Kshlerin76",
                  "Country": "Andorra",
                  "Address": "5780 Tessie Trafficway",
                  "Date": "2020-05-17",
                  "Timestamp": "2020-05-17T21:21:17.5337645+00:00",
                  "index": 19
                }
              ],
              "schema": {
                "fields": [
                  {
                    "name": "index",
                    "type": "integer"
                  },
                  {
                    "name": "id",
                    "type": "string"
                  },
                  {
                    "name": "Amount",
                    "type": "number"
                  },
                  {
                    "name": "TransactionType",
                    "type": "string"
                  },
                  {
                    "name": "Currency",
                    "type": "string"
                  },
                  {
                    "name": "Username",
                    "type": "string"
                  },
                  {
                    "name": "Country",
                    "type": "string"
                  },
                  {
                    "name": "Address",
                    "type": "string"
                  },
                  {
                    "name": "Date",
                    "type": "string"
                  },
                  {
                    "name": "Timestamp",
                    "type": "string"
                  }
                ],
                "primaryKey": [
                  "index"
                ]
              }
            }
          },
          "metadata": {
            "application/vnd.dataresource+json": {
              "size": 6,
              "_root": {
                "ownerID": {},
                "entries": [
                  [
                    "size",
                    6
                  ],
                  [
                    "_root",
                    {
                      "ownerID": {},
                      "entries": [
                        [
                          "size",
                          6
                        ],
                        [
                          "_root",
                          {
                            "ownerID": {},
                            "entries": [
                              [
                                "size",
                                1
                              ],
                              [
                                "_root",
                                {
                                  "ownerID": {},
                                  "entries": [
                                    [
                                      "dx",
                                      {
                                        "summaryType": "violin",
                                        "marginalGraphics": "none",
                                        "view": "grid",
                                        "areaType": "hexbin",
                                        "selectedDimensions": [
                                          "Date"
                                        ],
                                        "selectedMetrics": [],
                                        "networkType": "force",
                                        "pieceType": "bar",
                                        "lineType": "line",
                                        "hierarchyType": "dendrogram",
                                        "colors": [
                                          "#DA752E",
                                          "#E5C209",
                                          "#1441A0",
                                          "#B86117",
                                          "#4D430C",
                                          "#1DB390",
                                          "#B3331D",
                                          "#088EB2",
                                          "#417505",
                                          "#E479A8",
                                          "#F9F39E",
                                          "#5782DC",
                                          "#EBA97B",
                                          "#A2AB60",
                                          "#B291CF",
                                          "#8DD2C2",
                                          "#E6A19F",
                                          "#3DC7E0",
                                          "#98CE5B"
                                        ],
                                        "trendLine": "none",
                                        "barGrouping": "Clustered",
                                        "chart": {
                                          "metric1": "Amount",
                                          "metric2": "none",
                                          "timeseriesSort": "array-order",
                                          "metric3": "none",
                                          "metric4": "none",
                                          "networkLabel": "none",
                                          "dim1": "Date",
                                          "dim2": "TransactionType",
                                          "dim3": "none"
                                        }
                                      }
                                    ]
                                  ]
                                }
                              ],
                              [
                                "__ownerID",
                                null
                              ],
                              [
                                "__hash",
                                null
                              ],
                              [
                                "__altered",
                                false
                              ],
                              [
                                "dx",
                                {
                                  "summaryType": "violin",
                                  "marginalGraphics": "none",
                                  "view": "bar",
                                  "areaType": "hexbin",
                                  "selectedDimensions": [
                                    "Date"
                                  ],
                                  "selectedMetrics": [],
                                  "networkType": "force",
                                  "pieceType": "bar",
                                  "lineType": "line",
                                  "hierarchyType": "dendrogram",
                                  "colors": [
                                    "#DA752E",
                                    "#E5C209",
                                    "#1441A0",
                                    "#B86117",
                                    "#4D430C",
                                    "#1DB390",
                                    "#B3331D",
                                    "#088EB2",
                                    "#417505",
                                    "#E479A8",
                                    "#F9F39E",
                                    "#5782DC",
                                    "#EBA97B",
                                    "#A2AB60",
                                    "#B291CF",
                                    "#8DD2C2",
                                    "#E6A19F",
                                    "#3DC7E0",
                                    "#98CE5B"
                                  ],
                                  "trendLine": "none",
                                  "barGrouping": "Clustered",
                                  "chart": {
                                    "metric1": "Amount",
                                    "metric2": "none",
                                    "timeseriesSort": "array-order",
                                    "metric3": "none",
                                    "metric4": "none",
                                    "networkLabel": "none",
                                    "dim1": "Date",
                                    "dim2": "TransactionType",
                                    "dim3": "none"
                                  }
                                }
                              ]
                            ]
                          }
                        ],
                        [
                          "__ownerID",
                          null
                        ],
                        [
                          "__hash",
                          null
                        ],
                        [
                          "__altered",
                          false
                        ],
                        [
                          "dx",
                          {
                            "summaryType": "violin",
                            "marginalGraphics": "none",
                            "view": "bar",
                            "areaType": "hexbin",
                            "selectedDimensions": [
                              "Date",
                              "TransactionType"
                            ],
                            "selectedMetrics": [],
                            "networkType": "force",
                            "pieceType": "bar",
                            "lineType": "line",
                            "hierarchyType": "dendrogram",
                            "colors": [
                              "#DA752E",
                              "#E5C209",
                              "#1441A0",
                              "#B86117",
                              "#4D430C",
                              "#1DB390",
                              "#B3331D",
                              "#088EB2",
                              "#417505",
                              "#E479A8",
                              "#F9F39E",
                              "#5782DC",
                              "#EBA97B",
                              "#A2AB60",
                              "#B291CF",
                              "#8DD2C2",
                              "#E6A19F",
                              "#3DC7E0",
                              "#98CE5B"
                            ],
                            "trendLine": "none",
                            "barGrouping": "Clustered",
                            "chart": {
                              "metric1": "Amount",
                              "metric2": "none",
                              "timeseriesSort": "array-order",
                              "metric3": "none",
                              "metric4": "none",
                              "networkLabel": "none",
                              "dim1": "Date",
                              "dim2": "TransactionType",
                              "dim3": "none"
                            }
                          }
                        ]
                      ]
                    }
                  ],
                  [
                    "__ownerID",
                    null
                  ],
                  [
                    "__hash",
                    null
                  ],
                  [
                    "__altered",
                    false
                  ],
                  [
                    "dx",
                    {
                      "summaryType": "violin",
                      "marginalGraphics": "none",
                      "view": "bar",
                      "areaType": "hexbin",
                      "selectedDimensions": [
                        "TransactionType"
                      ],
                      "selectedMetrics": [],
                      "networkType": "force",
                      "pieceType": "bar",
                      "lineType": "line",
                      "hierarchyType": "dendrogram",
                      "colors": [
                        "#DA752E",
                        "#E5C209",
                        "#1441A0",
                        "#B86117",
                        "#4D430C",
                        "#1DB390",
                        "#B3331D",
                        "#088EB2",
                        "#417505",
                        "#E479A8",
                        "#F9F39E",
                        "#5782DC",
                        "#EBA97B",
                        "#A2AB60",
                        "#B291CF",
                        "#8DD2C2",
                        "#E6A19F",
                        "#3DC7E0",
                        "#98CE5B"
                      ],
                      "trendLine": "none",
                      "barGrouping": "Clustered",
                      "chart": {
                        "metric1": "Amount",
                        "metric2": "none",
                        "timeseriesSort": "array-order",
                        "metric3": "none",
                        "metric4": "none",
                        "networkLabel": "none",
                        "dim1": "Date",
                        "dim2": "TransactionType",
                        "dim3": "none"
                      }
                    }
                  ]
                ]
              },
              "__altered": false,
              "dx": {
                "summaryType": "violin",
                "marginalGraphics": "none",
                "view": "bar",
                "areaType": "hexbin",
                "selectedDimensions": [
                  "TransactionType"
                ],
                "selectedMetrics": [],
                "networkType": "force",
                "pieceType": "bar",
                "lineType": "line",
                "hierarchyType": "dendrogram",
                "colors": [
                  "#DA752E",
                  "#E5C209",
                  "#1441A0",
                  "#B86117",
                  "#4D430C",
                  "#1DB390",
                  "#B3331D",
                  "#088EB2",
                  "#417505",
                  "#E479A8",
                  "#F9F39E",
                  "#5782DC",
                  "#EBA97B",
                  "#A2AB60",
                  "#B291CF",
                  "#8DD2C2",
                  "#E6A19F",
                  "#3DC7E0",
                  "#98CE5B"
                ],
                "trendLine": "none",
                "barGrouping": "Clustered",
                "chart": {
                  "metric1": "Amount",
                  "metric2": "none",
                  "timeseriesSort": "array-order",
                  "metric3": "none",
                  "metric4": "none",
                  "networkLabel": "none",
                  "dim1": "TransactionType",
                  "dim2": "TransactionType",
                  "dim3": "none"
                }
              }
            }
          }
        }
      ],
      "execution_count": 23,
      "metadata": {
        "collapsed": true,
        "execution": {
          "iopub.status.busy": "2020-05-20T05:49:43.621Z",
          "iopub.status.idle": "2020-05-20T05:49:44.628Z",
          "shell.execute_reply": "2020-05-20T05:49:44.654Z",
          "iopub.execute_input": "2020-05-20T05:28:34.270Z"
        },
        "jupyter": {
          "outputs_hidden": false,
          "source_hidden": false
        },
        "nteract": {
          "transient": {
            "deleting": false
          }
        },
        "outputExpanded": false,
        "trusted": true
      }
    },
    {
      "cell_type": "markdown",
      "source": [
        "Message: Hello build!"
      ],
      "metadata": {
        "nteract": {
          "transient": {
            "deleting": false
          }
        }
      }
    },
    {
      "cell_type": "markdown",
      "source": [],
      "metadata": {
        "nteract": {
          "transient": {
            "deleting": false
          }
        }
      }
    }
  ],
  "metadata": {
    "kernelspec": {
      "displayName": "CSharp",
      "language": "csharp",
      "name": "csharp"
    },
    "language_info": {
      "name": "csharp",
      "version": "7.3",
      "mimetype": "application/json",
      "file_extension": "ipynb",
      "codemirror_mode": "text/x-csharp"
    },
    "nteract": {
      "version": "dataExplorer 1.0"
    }
  },
  "nbformat": 4,
  "nbformat_minor": 4
}